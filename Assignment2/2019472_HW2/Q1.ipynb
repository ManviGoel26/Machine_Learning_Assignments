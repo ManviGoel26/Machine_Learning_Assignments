{
  "nbformat": 4,
  "nbformat_minor": 0,
  "metadata": {
    "colab": {
      "name": "A2_Q1.ipynb",
      "provenance": [],
      "collapsed_sections": []
    },
    "kernelspec": {
      "name": "python3",
      "display_name": "Python 3"
    },
    "language_info": {
      "name": "python"
    }
  },
  "cells": [
    {
      "cell_type": "code",
      "metadata": {
        "id": "SrziiUc6ewZF"
      },
      "source": [
        "# Importing required libraries. \n",
        "import pandas as pd\n",
        "import numpy as np\n",
        "import matplotlib.pyplot as plt\n",
        "from random import seed"
      ],
      "execution_count": null,
      "outputs": []
    },
    {
      "cell_type": "code",
      "metadata": {
        "colab": {
          "base_uri": "https://localhost:8080/"
        },
        "id": "E-Tjrouue092",
        "outputId": "ae5b6c34-fe8b-46e0-fb17-f00c0c10cd0b"
      },
      "source": [
        "df = pd.read_csv('A2_Q1-data.csv')\n",
        "# df.head()\n",
        "df.shape"
      ],
      "execution_count": null,
      "outputs": [
        {
          "output_type": "execute_result",
          "data": {
            "text/plain": [
              "(43824, 13)"
            ]
          },
          "metadata": {},
          "execution_count": 8
        }
      ]
    },
    {
      "cell_type": "code",
      "metadata": {
        "colab": {
          "base_uri": "https://localhost:8080/"
        },
        "id": "xAW304iQfgqO",
        "outputId": "cfa73258-e3db-418e-f524-10e09258796b"
      },
      "source": [
        "df.info()"
      ],
      "execution_count": null,
      "outputs": [
        {
          "output_type": "stream",
          "name": "stdout",
          "text": [
            "<class 'pandas.core.frame.DataFrame'>\n",
            "RangeIndex: 43824 entries, 0 to 43823\n",
            "Data columns (total 13 columns):\n",
            " #   Column  Non-Null Count  Dtype  \n",
            "---  ------  --------------  -----  \n",
            " 0   No      43824 non-null  int64  \n",
            " 1   year    43824 non-null  int64  \n",
            " 2   month   43824 non-null  int64  \n",
            " 3   day     43824 non-null  int64  \n",
            " 4   hour    43824 non-null  int64  \n",
            " 5   pm2.5   41757 non-null  float64\n",
            " 6   DEWP    43824 non-null  int64  \n",
            " 7   TEMP    43824 non-null  float64\n",
            " 8   PRES    43824 non-null  float64\n",
            " 9   cbwd    43824 non-null  object \n",
            " 10  Iws     43824 non-null  float64\n",
            " 11  Is      43824 non-null  int64  \n",
            " 12  Ir      43824 non-null  int64  \n",
            "dtypes: float64(4), int64(8), object(1)\n",
            "memory usage: 4.3+ MB\n"
          ]
        }
      ]
    },
    {
      "cell_type": "code",
      "metadata": {
        "id": "qg0atFmLfk7G"
      },
      "source": [
        "df.describe()"
      ],
      "execution_count": null,
      "outputs": []
    },
    {
      "cell_type": "code",
      "metadata": {
        "colab": {
          "base_uri": "https://localhost:8080/"
        },
        "id": "JdVvrpOcjLSZ",
        "outputId": "4c6f6a40-c241-40d9-e8cc-6734bb5d7a7e"
      },
      "source": [
        "stringData =  df.select_dtypes(include=[np.object]).columns\n",
        "print(stringData)"
      ],
      "execution_count": null,
      "outputs": [
        {
          "output_type": "stream",
          "name": "stdout",
          "text": [
            "Index(['cbwd'], dtype='object')\n"
          ]
        }
      ]
    },
    {
      "cell_type": "code",
      "metadata": {
        "colab": {
          "base_uri": "https://localhost:8080/",
          "height": 452
        },
        "id": "EzItehX_iVnB",
        "outputId": "150d8ce0-e903-40b2-b8e8-74cce6ea78f2"
      },
      "source": [
        "# null values\n",
        "# check the missing points\n",
        "missing = df.isnull().sum().sort_values(ascending = False)\n",
        "percentageMissing = (missing/len(df))*100\n",
        "pd.concat([missing, percentageMissing], axis = 1, keys= ['Number of missing values ', 'Percentage of Missing Values'])"
      ],
      "execution_count": null,
      "outputs": [
        {
          "output_type": "execute_result",
          "data": {
            "text/html": [
              "<div>\n",
              "<style scoped>\n",
              "    .dataframe tbody tr th:only-of-type {\n",
              "        vertical-align: middle;\n",
              "    }\n",
              "\n",
              "    .dataframe tbody tr th {\n",
              "        vertical-align: top;\n",
              "    }\n",
              "\n",
              "    .dataframe thead th {\n",
              "        text-align: right;\n",
              "    }\n",
              "</style>\n",
              "<table border=\"1\" class=\"dataframe\">\n",
              "  <thead>\n",
              "    <tr style=\"text-align: right;\">\n",
              "      <th></th>\n",
              "      <th>Number of missing values</th>\n",
              "      <th>Percentage of Missing Values</th>\n",
              "    </tr>\n",
              "  </thead>\n",
              "  <tbody>\n",
              "    <tr>\n",
              "      <th>pm2.5</th>\n",
              "      <td>2067</td>\n",
              "      <td>4.716594</td>\n",
              "    </tr>\n",
              "    <tr>\n",
              "      <th>Ir</th>\n",
              "      <td>0</td>\n",
              "      <td>0.000000</td>\n",
              "    </tr>\n",
              "    <tr>\n",
              "      <th>Is</th>\n",
              "      <td>0</td>\n",
              "      <td>0.000000</td>\n",
              "    </tr>\n",
              "    <tr>\n",
              "      <th>Iws</th>\n",
              "      <td>0</td>\n",
              "      <td>0.000000</td>\n",
              "    </tr>\n",
              "    <tr>\n",
              "      <th>cbwd</th>\n",
              "      <td>0</td>\n",
              "      <td>0.000000</td>\n",
              "    </tr>\n",
              "    <tr>\n",
              "      <th>PRES</th>\n",
              "      <td>0</td>\n",
              "      <td>0.000000</td>\n",
              "    </tr>\n",
              "    <tr>\n",
              "      <th>TEMP</th>\n",
              "      <td>0</td>\n",
              "      <td>0.000000</td>\n",
              "    </tr>\n",
              "    <tr>\n",
              "      <th>DEWP</th>\n",
              "      <td>0</td>\n",
              "      <td>0.000000</td>\n",
              "    </tr>\n",
              "    <tr>\n",
              "      <th>hour</th>\n",
              "      <td>0</td>\n",
              "      <td>0.000000</td>\n",
              "    </tr>\n",
              "    <tr>\n",
              "      <th>day</th>\n",
              "      <td>0</td>\n",
              "      <td>0.000000</td>\n",
              "    </tr>\n",
              "    <tr>\n",
              "      <th>month</th>\n",
              "      <td>0</td>\n",
              "      <td>0.000000</td>\n",
              "    </tr>\n",
              "    <tr>\n",
              "      <th>year</th>\n",
              "      <td>0</td>\n",
              "      <td>0.000000</td>\n",
              "    </tr>\n",
              "    <tr>\n",
              "      <th>No</th>\n",
              "      <td>0</td>\n",
              "      <td>0.000000</td>\n",
              "    </tr>\n",
              "  </tbody>\n",
              "</table>\n",
              "</div>"
            ],
            "text/plain": [
              "       Number of missing values   Percentage of Missing Values\n",
              "pm2.5                       2067                      4.716594\n",
              "Ir                             0                      0.000000\n",
              "Is                             0                      0.000000\n",
              "Iws                            0                      0.000000\n",
              "cbwd                           0                      0.000000\n",
              "PRES                           0                      0.000000\n",
              "TEMP                           0                      0.000000\n",
              "DEWP                           0                      0.000000\n",
              "hour                           0                      0.000000\n",
              "day                            0                      0.000000\n",
              "month                          0                      0.000000\n",
              "year                           0                      0.000000\n",
              "No                             0                      0.000000"
            ]
          },
          "metadata": {},
          "execution_count": 10
        }
      ]
    },
    {
      "cell_type": "code",
      "metadata": {
        "id": "NkYJ5pjbfrYp"
      },
      "source": [
        "for col in df.columns:\n",
        "    print(\"The column: \", col)\n",
        "    print(df[col].unique()) \n",
        "    print()\n"
      ],
      "execution_count": null,
      "outputs": []
    },
    {
      "cell_type": "code",
      "metadata": {
        "id": "vuzMIYqFi_eA"
      },
      "source": [
        "df.hist(figsize=(20,10), grid = True, layout=(4, 4), bins = 30)"
      ],
      "execution_count": null,
      "outputs": []
    },
    {
      "cell_type": "code",
      "metadata": {
        "colab": {
          "base_uri": "https://localhost:8080/",
          "height": 450
        },
        "id": "EieAVWdPo7xH",
        "outputId": "b1437387-43bb-40d9-d372-608f55a5658f"
      },
      "source": [
        "df.boxplot(figsize = (30, 10))"
      ],
      "execution_count": null,
      "outputs": [
        {
          "output_type": "execute_result",
          "data": {
            "text/plain": [
              "<matplotlib.axes._subplots.AxesSubplot at 0x7fcd97200f10>"
            ]
          },
          "metadata": {},
          "execution_count": 64
        },
        {
          "output_type": "display_data",
          "data": {
            "image/png": "[encoded data removed]",
            "text/plain": [
              "<Figure size 2160x720 with 1 Axes>"
            ]
          },
          "metadata": {
            "needs_background": "light"
          }
        }
      ]
    },
    {
      "cell_type": "code",
      "metadata": {
        "colab": {
          "base_uri": "https://localhost:8080/",
          "height": 268
        },
        "id": "_xZWzxo0u2OV",
        "outputId": "69e42c71-617f-4f5b-befe-184bcc7b2f7c"
      },
      "source": [
        "cols = [0, 4, 5, 6, 7, 8, 9]\n",
        "i = 1\n",
        "# plotting each column\n",
        "plt.figure()\n",
        "for group in cols:\n",
        "\tplt.subplot(len(cols), 1, i)\n",
        "\tplt.plot(X[:, group])\n",
        "\tplt.title(df.columns[group], y = 0.5, loc='right')\n",
        "\ti += 1\n",
        "plt.show()\n"
      ],
      "execution_count": null,
      "outputs": [
        {
          "output_type": "display_data",
          "data": {
            "image/png": "[encoded data removed]",
            "text/plain": [
              "<Figure size 432x288 with 7 Axes>"
            ]
          },
          "metadata": {
            "needs_background": "light"
          }
        }
      ]
    },
    {
      "cell_type": "code",
      "metadata": {
        "colab": {
          "base_uri": "https://localhost:8080/",
          "height": 204
        },
        "id": "EoLz6xJHhKSr",
        "outputId": "4412546e-21df-486e-8303-5aff500b2ad3"
      },
      "source": [
        "# Start preprocessing\n",
        "df = df.drop(columns=['No'])\n",
        "df.head()"
      ],
      "execution_count": null,
      "outputs": [
        {
          "output_type": "execute_result",
          "data": {
            "text/html": [
              "<div>\n",
              "<style scoped>\n",
              "    .dataframe tbody tr th:only-of-type {\n",
              "        vertical-align: middle;\n",
              "    }\n",
              "\n",
              "    .dataframe tbody tr th {\n",
              "        vertical-align: top;\n",
              "    }\n",
              "\n",
              "    .dataframe thead th {\n",
              "        text-align: right;\n",
              "    }\n",
              "</style>\n",
              "<table border=\"1\" class=\"dataframe\">\n",
              "  <thead>\n",
              "    <tr style=\"text-align: right;\">\n",
              "      <th></th>\n",
              "      <th>year</th>\n",
              "      <th>month</th>\n",
              "      <th>day</th>\n",
              "      <th>hour</th>\n",
              "      <th>pm2.5</th>\n",
              "      <th>DEWP</th>\n",
              "      <th>TEMP</th>\n",
              "      <th>PRES</th>\n",
              "      <th>cbwd</th>\n",
              "      <th>Iws</th>\n",
              "      <th>Is</th>\n",
              "      <th>Ir</th>\n",
              "    </tr>\n",
              "  </thead>\n",
              "  <tbody>\n",
              "    <tr>\n",
              "      <th>0</th>\n",
              "      <td>2010</td>\n",
              "      <td>1</td>\n",
              "      <td>1</td>\n",
              "      <td>0</td>\n",
              "      <td>NaN</td>\n",
              "      <td>-21</td>\n",
              "      <td>-11.0</td>\n",
              "      <td>1021.0</td>\n",
              "      <td>NW</td>\n",
              "      <td>1.79</td>\n",
              "      <td>0</td>\n",
              "      <td>0</td>\n",
              "    </tr>\n",
              "    <tr>\n",
              "      <th>1</th>\n",
              "      <td>2010</td>\n",
              "      <td>1</td>\n",
              "      <td>1</td>\n",
              "      <td>1</td>\n",
              "      <td>NaN</td>\n",
              "      <td>-21</td>\n",
              "      <td>-12.0</td>\n",
              "      <td>1020.0</td>\n",
              "      <td>NW</td>\n",
              "      <td>4.92</td>\n",
              "      <td>0</td>\n",
              "      <td>0</td>\n",
              "    </tr>\n",
              "    <tr>\n",
              "      <th>2</th>\n",
              "      <td>2010</td>\n",
              "      <td>1</td>\n",
              "      <td>1</td>\n",
              "      <td>2</td>\n",
              "      <td>NaN</td>\n",
              "      <td>-21</td>\n",
              "      <td>-11.0</td>\n",
              "      <td>1019.0</td>\n",
              "      <td>NW</td>\n",
              "      <td>6.71</td>\n",
              "      <td>0</td>\n",
              "      <td>0</td>\n",
              "    </tr>\n",
              "    <tr>\n",
              "      <th>3</th>\n",
              "      <td>2010</td>\n",
              "      <td>1</td>\n",
              "      <td>1</td>\n",
              "      <td>3</td>\n",
              "      <td>NaN</td>\n",
              "      <td>-21</td>\n",
              "      <td>-14.0</td>\n",
              "      <td>1019.0</td>\n",
              "      <td>NW</td>\n",
              "      <td>9.84</td>\n",
              "      <td>0</td>\n",
              "      <td>0</td>\n",
              "    </tr>\n",
              "    <tr>\n",
              "      <th>4</th>\n",
              "      <td>2010</td>\n",
              "      <td>1</td>\n",
              "      <td>1</td>\n",
              "      <td>4</td>\n",
              "      <td>NaN</td>\n",
              "      <td>-20</td>\n",
              "      <td>-12.0</td>\n",
              "      <td>1018.0</td>\n",
              "      <td>NW</td>\n",
              "      <td>12.97</td>\n",
              "      <td>0</td>\n",
              "      <td>0</td>\n",
              "    </tr>\n",
              "  </tbody>\n",
              "</table>\n",
              "</div>"
            ],
            "text/plain": [
              "   year  month  day  hour  pm2.5  DEWP  TEMP    PRES cbwd    Iws  Is  Ir\n",
              "0  2010      1    1     0    NaN   -21 -11.0  1021.0   NW   1.79   0   0\n",
              "1  2010      1    1     1    NaN   -21 -12.0  1020.0   NW   4.92   0   0\n",
              "2  2010      1    1     2    NaN   -21 -11.0  1019.0   NW   6.71   0   0\n",
              "3  2010      1    1     3    NaN   -21 -14.0  1019.0   NW   9.84   0   0\n",
              "4  2010      1    1     4    NaN   -20 -12.0  1018.0   NW  12.97   0   0"
            ]
          },
          "metadata": {},
          "execution_count": 11
        }
      ]
    },
    {
      "cell_type": "code",
      "metadata": {
        "id": "yvHTT8PjlVle"
      },
      "source": [
        "from sklearn import preprocessing"
      ],
      "execution_count": null,
      "outputs": []
    },
    {
      "cell_type": "code",
      "metadata": {
        "colab": {
          "base_uri": "https://localhost:8080/",
          "height": 204
        },
        "id": "duxKoHh9k7ZW",
        "outputId": "651d70ab-6b50-4b92-e4cb-8f956139c90d"
      },
      "source": [
        "# Label encoding\n",
        "encoder = preprocessing.LabelEncoder()\n",
        "df['cbwd'] = encoder.fit_transform(df['cbwd'])\n",
        "df.head()"
      ],
      "execution_count": null,
      "outputs": [
        {
          "output_type": "execute_result",
          "data": {
            "text/html": [
              "<div>\n",
              "<style scoped>\n",
              "    .dataframe tbody tr th:only-of-type {\n",
              "        vertical-align: middle;\n",
              "    }\n",
              "\n",
              "    .dataframe tbody tr th {\n",
              "        vertical-align: top;\n",
              "    }\n",
              "\n",
              "    .dataframe thead th {\n",
              "        text-align: right;\n",
              "    }\n",
              "</style>\n",
              "<table border=\"1\" class=\"dataframe\">\n",
              "  <thead>\n",
              "    <tr style=\"text-align: right;\">\n",
              "      <th></th>\n",
              "      <th>year</th>\n",
              "      <th>month</th>\n",
              "      <th>day</th>\n",
              "      <th>hour</th>\n",
              "      <th>pm2.5</th>\n",
              "      <th>DEWP</th>\n",
              "      <th>TEMP</th>\n",
              "      <th>PRES</th>\n",
              "      <th>cbwd</th>\n",
              "      <th>Iws</th>\n",
              "      <th>Is</th>\n",
              "      <th>Ir</th>\n",
              "    </tr>\n",
              "  </thead>\n",
              "  <tbody>\n",
              "    <tr>\n",
              "      <th>0</th>\n",
              "      <td>2010</td>\n",
              "      <td>1</td>\n",
              "      <td>1</td>\n",
              "      <td>0</td>\n",
              "      <td>NaN</td>\n",
              "      <td>-21</td>\n",
              "      <td>-11.0</td>\n",
              "      <td>1021.0</td>\n",
              "      <td>1</td>\n",
              "      <td>1.79</td>\n",
              "      <td>0</td>\n",
              "      <td>0</td>\n",
              "    </tr>\n",
              "    <tr>\n",
              "      <th>1</th>\n",
              "      <td>2010</td>\n",
              "      <td>1</td>\n",
              "      <td>1</td>\n",
              "      <td>1</td>\n",
              "      <td>NaN</td>\n",
              "      <td>-21</td>\n",
              "      <td>-12.0</td>\n",
              "      <td>1020.0</td>\n",
              "      <td>1</td>\n",
              "      <td>4.92</td>\n",
              "      <td>0</td>\n",
              "      <td>0</td>\n",
              "    </tr>\n",
              "    <tr>\n",
              "      <th>2</th>\n",
              "      <td>2010</td>\n",
              "      <td>1</td>\n",
              "      <td>1</td>\n",
              "      <td>2</td>\n",
              "      <td>NaN</td>\n",
              "      <td>-21</td>\n",
              "      <td>-11.0</td>\n",
              "      <td>1019.0</td>\n",
              "      <td>1</td>\n",
              "      <td>6.71</td>\n",
              "      <td>0</td>\n",
              "      <td>0</td>\n",
              "    </tr>\n",
              "    <tr>\n",
              "      <th>3</th>\n",
              "      <td>2010</td>\n",
              "      <td>1</td>\n",
              "      <td>1</td>\n",
              "      <td>3</td>\n",
              "      <td>NaN</td>\n",
              "      <td>-21</td>\n",
              "      <td>-14.0</td>\n",
              "      <td>1019.0</td>\n",
              "      <td>1</td>\n",
              "      <td>9.84</td>\n",
              "      <td>0</td>\n",
              "      <td>0</td>\n",
              "    </tr>\n",
              "    <tr>\n",
              "      <th>4</th>\n",
              "      <td>2010</td>\n",
              "      <td>1</td>\n",
              "      <td>1</td>\n",
              "      <td>4</td>\n",
              "      <td>NaN</td>\n",
              "      <td>-20</td>\n",
              "      <td>-12.0</td>\n",
              "      <td>1018.0</td>\n",
              "      <td>1</td>\n",
              "      <td>12.97</td>\n",
              "      <td>0</td>\n",
              "      <td>0</td>\n",
              "    </tr>\n",
              "  </tbody>\n",
              "</table>\n",
              "</div>"
            ],
            "text/plain": [
              "   year  month  day  hour  pm2.5  DEWP  TEMP    PRES  cbwd    Iws  Is  Ir\n",
              "0  2010      1    1     0    NaN   -21 -11.0  1021.0     1   1.79   0   0\n",
              "1  2010      1    1     1    NaN   -21 -12.0  1020.0     1   4.92   0   0\n",
              "2  2010      1    1     2    NaN   -21 -11.0  1019.0     1   6.71   0   0\n",
              "3  2010      1    1     3    NaN   -21 -14.0  1019.0     1   9.84   0   0\n",
              "4  2010      1    1     4    NaN   -20 -12.0  1018.0     1  12.97   0   0"
            ]
          },
          "metadata": {},
          "execution_count": 13
        }
      ]
    },
    {
      "cell_type": "code",
      "metadata": {
        "id": "HLWKMb4rks6O"
      },
      "source": [
        "# df[\"pm2.5\"] = df.groupby(\"month\").transform(lambda x: x.fillna(x.mean()))\n",
        "df['pm2.5'] = df['pm2.5'].fillna(df.groupby(['month', 'year'])['pm2.5'].transform('mean'))"
      ],
      "execution_count": null,
      "outputs": []
    },
    {
      "cell_type": "code",
      "metadata": {
        "id": "sFekxlABtxFF"
      },
      "source": [
        "# Getting the values of y and X separately\n",
        "y = df.month.values\n",
        "del df[\"month\"]\n",
        "X = df.values.astype(np.float)\n",
        "# end preprocessing"
      ],
      "execution_count": null,
      "outputs": []
    },
    {
      "cell_type": "code",
      "metadata": {
        "id": "8RXpCVaVvvzH"
      },
      "source": [
        "scaler = preprocessing.MinMaxScaler(feature_range=(0, 1))\n",
        "scaled = scaler.fit_transform(X)"
      ],
      "execution_count": null,
      "outputs": []
    },
    {
      "cell_type": "code",
      "metadata": {
        "id": "2ReTFKnWtshJ"
      },
      "source": [
        "# Splitting into training, validation and test sets\n",
        "seed(0)\n",
        "indices = list(range(X.shape[0]))\n",
        "training_instances = int(0.7*X.shape[0])\n",
        "validation_instances = int(0.15 * X.shape[0])\n",
        "np.random.shuffle(indices)\n",
        "train = indices[:training_instances]\n",
        "validation = indices[training_instances:training_instances + validation_instances + 1]\n",
        "test = indices[training_instances + validation_instances + 1:]\n",
        "# print(len(train)/len(X))"
      ],
      "execution_count": null,
      "outputs": []
    },
    {
      "cell_type": "code",
      "metadata": {
        "id": "6KrSaJ_zvjQW"
      },
      "source": [
        "X_train, X_validation, X_test = X[train], X[validation], X[test]\n",
        "y_train, y_validation, y_test = y[train], y[validation], y[test]"
      ],
      "execution_count": null,
      "outputs": []
    },
    {
      "cell_type": "code",
      "metadata": {
        "id": "OGErDDuOwPRv"
      },
      "source": [
        "# Model starting\n",
        "# from sklearn.tree import DecisionTreeClassifier\n",
        "from sklearn import tree\n",
        "\n",
        "def accuracy(y_pred, y_test):\n",
        "    # calculate accuracy\n",
        "    acc = 0\n",
        "    for i in range(len(y_test)):\n",
        "        if (y_test[i] == y_pred[i]):\n",
        "            acc += 1\n",
        "    return acc/len(y_test)\n"
      ],
      "execution_count": null,
      "outputs": []
    },
    {
      "cell_type": "code",
      "metadata": {
        "colab": {
          "base_uri": "https://localhost:8080/"
        },
        "id": "OLy3-ms0wSdC",
        "outputId": "23839153-5d04-4d13-a2f3-6e6c699b5ba0"
      },
      "source": [
        "# 1.(a)\n",
        "# Gini Index\n",
        "clf = tree.DecisionTreeClassifier(criterion='gini')\n",
        "clf = clf.fit(X_train, y_train)\n",
        "y_pred = clf.predict(X_test)\n",
        "accuracy(y_pred, y_test)"
      ],
      "execution_count": null,
      "outputs": [
        {
          "output_type": "execute_result",
          "data": {
            "text/plain": [
              "0.8153331305141467"
            ]
          },
          "metadata": {},
          "execution_count": 21
        }
      ]
    },
    {
      "cell_type": "code",
      "metadata": {
        "colab": {
          "base_uri": "https://localhost:8080/"
        },
        "id": "1OLEBf0Nw87x",
        "outputId": "9d724fb0-1e7d-46a2-89bc-87afc72ee691"
      },
      "source": [
        "# 1.(a)\n",
        "# entropy\n",
        "clf = tree.DecisionTreeClassifier(criterion='entropy')\n",
        "clf = clf.fit(X_train, y_train)\n",
        "y_pred = clf.predict(X_test)\n",
        "accuracy(y_pred, y_test)"
      ],
      "execution_count": null,
      "outputs": [
        {
          "output_type": "execute_result",
          "data": {
            "text/plain": [
              "0.8244599939154243"
            ]
          },
          "metadata": {},
          "execution_count": 22
        }
      ]
    },
    {
      "cell_type": "code",
      "metadata": {
        "colab": {
          "base_uri": "https://localhost:8080/"
        },
        "id": "KfmYnax7yblF",
        "outputId": "eae7849f-a961-4687-a105-b57f580260df"
      },
      "source": [
        "# The one giving better acc : Entropy\n",
        "acc_gini = 0\n",
        "acc_entropy = 0\n",
        "range_ = 20\n",
        "\n",
        "for i in range(range_):\n",
        "    clf = tree.DecisionTreeClassifier(criterion='gini')\n",
        "    clf = clf.fit(X_train, y_train)\n",
        "    y_pred = clf.predict(X_test)\n",
        "    acc_gini += accuracy(y_pred, y_test)\n",
        "\n",
        "\n",
        "for i in range(range_):\n",
        "    clf = tree.DecisionTreeClassifier(criterion='entropy')\n",
        "    clf = clf.fit(X_train, y_train)\n",
        "    y_pred = clf.predict(X_test)\n",
        "    acc_entropy += accuracy(y_pred, y_test)\n",
        "\n",
        "\n",
        "meanAccGini = acc_gini/range_\n",
        "meanAccEntropy = acc_entropy/range_\n",
        "\n",
        "if (meanAccGini > meanAccEntropy):\n",
        "    print(\"The classifier giving better results is Gini Index with mean accuracy = \", meanAccGini)\n",
        "else:\n",
        "    print(\"The classifier giving better results is Entropy with mean accuracy = \", meanAccEntropy)"
      ],
      "execution_count": null,
      "outputs": [
        {
          "output_type": "stream",
          "name": "stdout",
          "text": [
            "The classifier giving better results is Entropy with mean accuracy =  0.8253726802555524\n"
          ]
        }
      ]
    },
    {
      "cell_type": "code",
      "metadata": {
        "id": "ULXArx9oyisM"
      },
      "source": [
        "# 1.b// Using Entropy\n",
        "maxDepths = [2, 4, 8, 10, 15, 30, 35, 40, 45]\n",
        "depthAccTrain = []\n",
        "depthAccTest = []\n",
        "\n",
        "for i in range(len(maxDepths)):\n",
        "    clf = tree.DecisionTreeClassifier(criterion='entropy', max_depth=maxDepths[i])\n",
        "    clf = clf.fit(X_train, y_train)\n",
        "    yPredTrain = clf.predict(X_train)\n",
        "    depthAccTrain.append(accuracy(yPredTrain, y_train))\n",
        "    yPredTest = clf.predict(X_test)\n",
        "    depthAccTest.append(accuracy(yPredTest, y_test))\n",
        "\n",
        "\n",
        "\n"
      ],
      "execution_count": null,
      "outputs": []
    },
    {
      "cell_type": "code",
      "metadata": {
        "colab": {
          "base_uri": "https://localhost:8080/",
          "height": 279
        },
        "id": "HNQOH2sNg3_2",
        "outputId": "f3ddd3d9-3f9e-421b-8b37-c91640a5ca9c"
      },
      "source": [
        "# plot\n",
        "plt.plot(maxDepths, depthAccTrain, color='blue', label = 'Train')\n",
        "plt.plot(maxDepths, depthAccTest, color='green', label = 'Test')\n",
        "plt.xlabel(\"Max Depth\")\n",
        "plt.ylabel(\"Accuracy\")\n",
        "plt.legend(loc=\"upper left\")\n",
        "plt.show()"
      ],
      "execution_count": null,
      "outputs": [
        {
          "output_type": "display_data",
          "data": {
            "image/png": "[encoded data removed]",
            "text/plain": [
              "<Figure size 432x288 with 1 Axes>"
            ]
          },
          "metadata": {
            "needs_background": "light"
          }
        }
      ]
    },
    {
      "cell_type": "code",
      "metadata": {
        "colab": {
          "base_uri": "https://localhost:8080/"
        },
        "id": "HAnoW2bDiU0u",
        "outputId": "4ac99b1f-3fdb-4621-cc91-9cf62007f5d7"
      },
      "source": [
        "print(\"The actual depth of classifier is:\", clf.get_depth())"
      ],
      "execution_count": null,
      "outputs": [
        {
          "output_type": "stream",
          "name": "stdout",
          "text": [
            "The actual depth of classifier is: 26\n"
          ]
        }
      ]
    },
    {
      "cell_type": "code",
      "metadata": {
        "id": "zfcerKwDkkko"
      },
      "source": [
        "from scipy import stats\n",
        "\n",
        "def jointAccuracy(accJoint_, y_test):\n",
        "    yPredJoint = stats.mode(accJoint_)\n",
        "    yPredJoint = yPredJoint[0]\n",
        "    return accuracy(yPredJoint[0], y_test)\n"
      ],
      "execution_count": null,
      "outputs": []
    },
    {
      "cell_type": "code",
      "metadata": {
        "id": "jRBNnKuLit5l"
      },
      "source": [
        "# 1.c\n",
        "noOfStumps = 100\n",
        "maxDepthC = 3\n",
        "trainPer = 0.5\n",
        "accJoint = [[0]*noOfStumps]*len(y_test)\n",
        "accJoint_ = []\n",
        "\n",
        "for i in range(noOfStumps):\n",
        "    clf = tree.DecisionTreeClassifier(criterion='entropy', max_depth=maxDepthC)\n",
        "    indices = list(range(X_train.shape[0]))\n",
        "    trainStump = int(trainPer*X_train.shape[0])\n",
        "    np.random.shuffle(indices)\n",
        "    train_ = indices[:trainStump]\n",
        "    XTrainStump = X_train[train_]\n",
        "    YTrainStump = y_train[train_]\n",
        "    clf = clf.fit(XTrainStump, YTrainStump)\n",
        "    yPredTest = clf.predict(X_test)\n",
        "    # print(accuracy(yPredTest, y_test))\n",
        "    accJoint_.append(yPredTest)\n",
        "\n",
        "\n"
      ],
      "execution_count": null,
      "outputs": []
    },
    {
      "cell_type": "code",
      "metadata": {
        "colab": {
          "base_uri": "https://localhost:8080/"
        },
        "id": "01secWFymoUg",
        "outputId": "7f4e4a58-f464-42d0-ee6f-8e91a4bc3188"
      },
      "source": [
        "# accJoint = np.concatenate(accJoint_)\n",
        "print(\"The accuracy of ensemble method is: \", jointAccuracy(accJoint_, y_test))"
      ],
      "execution_count": null,
      "outputs": [
        {
          "output_type": "stream",
          "name": "stdout",
          "text": [
            "The accuracy of ensemble method is:  0.3576209309400669\n"
          ]
        }
      ]
    },
    {
      "cell_type": "code",
      "metadata": {
        "id": "m8qU7r8-nryF"
      },
      "source": [
        "# 1.c\n",
        "noOfStumps = np.linspace(10, 250, 9, dtype=np.int64)\n",
        "maxDepthsD = [4, 8, 10, 15, 20, 30] \n",
        "trainPer = 0.5\n",
        "accJointDepthsTrain = []\n",
        "accJointDepthsValidation = []\n",
        "accJointDepthsTest = []\n",
        "\n",
        "for depth in maxDepthsD:\n",
        "    accJointStumpsTrain = []\n",
        "    accJointStumpsValidation = []\n",
        "    accJointStumpsTest = []\n",
        "    \n",
        "    for stumps in noOfStumps:\n",
        "        accJointDTrain = []\n",
        "        accJointDValidation = []\n",
        "        accJointDTest = []\n",
        "\n",
        "        for tree_ in range(stumps):\n",
        "            clf = tree.DecisionTreeClassifier(criterion='entropy', max_depth=depth)\n",
        "            indices = list(range(X_train.shape[0]))\n",
        "            trainStump = int(trainPer*X_train.shape[0])\n",
        "            np.random.shuffle(indices)\n",
        "            train_ = indices[:trainStump]\n",
        "            XTrainStump = X_train[train_]\n",
        "            YTrainStump = y_train[train_]\n",
        "            clf = clf.fit(XTrainStump, YTrainStump)\n",
        "            \n",
        "            \n",
        "            yPredTrain = clf.predict(X_train)\n",
        "            accJointDTrain.append(yPredTrain)\n",
        "\n",
        "            yPredValidation = clf.predict(X_validation)\n",
        "            accJointDValidation.append(yPredValidation)\n",
        "\n",
        "            yPredTest = clf.predict(X_test)\n",
        "            accJointDTest.append(yPredTest)\n",
        "        \n",
        "\n",
        "        accJointStumpsTrain.append(jointAccuracy(accJointDTrain, y_train))\n",
        "        accJointStumpsValidation.append(jointAccuracy(accJointDValidation, y_validation))\n",
        "        accJointStumpsTest.append(jointAccuracy(accJointDTest, y_test))\n",
        "    \n",
        "    accJointDepthsTrain.append(accJointStumpsTrain)\n",
        "    accJointDepthsValidation.append(accJointStumpsValidation)\n",
        "    accJointDepthsTest.append(accJointStumpsTest)\n",
        "        \n",
        "        \n",
        "\n",
        "\n",
        "\n"
      ],
      "execution_count": null,
      "outputs": []
    },
    {
      "cell_type": "code",
      "metadata": {
        "colab": {
          "base_uri": "https://localhost:8080/",
          "height": 295
        },
        "id": "C3JdVsVhnYpH",
        "outputId": "25d3d805-4245-4371-efa5-15d9a2994997"
      },
      "source": [
        "colors = ['purple', 'green', 'pink', 'yellow','blue', 'red']\n",
        "\n",
        "# Training accuracy\n",
        "for i in range(len(maxDepthsD)):\n",
        "    plt.plot(noOfStumps, accJointDepthsTrain[i], color=colors[i], label = \"Depth = \" + str(maxDepthsD[i]))\n",
        "\n",
        "plt.title(\"Training Accuracy\")\n",
        "plt.xlabel(\"Number of Stumps\")\n",
        "plt.ylabel(\"Accuracy\")\n",
        "plt.legend(loc =\"upper right\")\n",
        "plt.show()"
      ],
      "execution_count": null,
      "outputs": [
        {
          "output_type": "display_data",
          "data": {
            "image/png": "[encoded data removed]",
            "text/plain": [
              "<Figure size 432x288 with 1 Axes>"
            ]
          },
          "metadata": {
            "needs_background": "light"
          }
        }
      ]
    },
    {
      "cell_type": "code",
      "metadata": {
        "colab": {
          "base_uri": "https://localhost:8080/",
          "height": 295
        },
        "id": "cmn6kLeH3V1y",
        "outputId": "0ee9a3fe-66af-462f-d08e-fe3f658983a1"
      },
      "source": [
        "for i in range(len(maxDepthsD)):\n",
        "    plt.plot(noOfStumps, accJointDepthsValidation[i], color=colors[i], label = \"Depth = \" + str(maxDepthsD[i]))\n",
        "\n",
        "plt.title(\"Validation Accuracy\")\n",
        "plt.xlabel(\"Number of Stumps\")\n",
        "plt.ylabel(\"Accuracy\")\n",
        "plt.legend(loc =\"upper right\")\n",
        "plt.show()"
      ],
      "execution_count": null,
      "outputs": [
        {
          "output_type": "display_data",
          "data": {
            "image/png": "[encoded data removed]",
            "text/plain": [
              "<Figure size 432x288 with 1 Axes>"
            ]
          },
          "metadata": {
            "needs_background": "light"
          }
        }
      ]
    },
    {
      "cell_type": "code",
      "metadata": {
        "colab": {
          "base_uri": "https://localhost:8080/"
        },
        "id": "xjJkd1XNENKu",
        "outputId": "582fecc8-7c38-4318-bff3-4065178d0516"
      },
      "source": [
        "print(noOfStumps)"
      ],
      "execution_count": null,
      "outputs": [
        {
          "output_type": "stream",
          "name": "stdout",
          "text": [
            "[ 10  40  70 100 130 160 190 220 250 100]\n"
          ]
        }
      ]
    },
    {
      "cell_type": "code",
      "metadata": {
        "colab": {
          "base_uri": "https://localhost:8080/",
          "height": 295
        },
        "id": "RQ9PcV1SAKnL",
        "outputId": "6a8df6ed-d1fb-4f0e-f681-3a7704d88edd"
      },
      "source": [
        "for i in range(len(maxDepthsD)):\n",
        "    plt.plot(noOfStumps, accJointDepthsTest[i], color=colors[i], label = \"Depth = \" + str(maxDepthsD[i]))\n",
        "\n",
        "plt.title(\"Test Accuracy\")\n",
        "plt.xlabel(\"Number of Stumps\")\n",
        "plt.ylabel(\"Accuracy\")\n",
        "plt.legend(loc =\"upper right\")\n",
        "plt.show()"
      ],
      "execution_count": null,
      "outputs": [
        {
          "output_type": "display_data",
          "data": {
            "image/png": "[encoded data removed]",
            "text/plain": [
              "<Figure size 432x288 with 1 Axes>"
            ]
          },
          "metadata": {
            "needs_background": "light"
          }
        }
      ]
    },
    {
      "cell_type": "code",
      "metadata": {
        "colab": {
          "base_uri": "https://localhost:8080/"
        },
        "id": "UoRaPx_fo2MC",
        "outputId": "20567048-222e-48a4-b75a-47218795de12"
      },
      "source": [
        "# Final Prediction\n",
        "# 1.c\n",
        "noOfStumps = 70\n",
        "maxDepthC = 30\n",
        "trainPer = 0.5\n",
        "accJoint = [[0]*noOfStumps]*len(y_test)\n",
        "accJoint_ = []\n",
        "\n",
        "for i in range(noOfStumps):\n",
        "    clf = tree.DecisionTreeClassifier(criterion='entropy', max_depth=maxDepthC)\n",
        "    indices = list(range(X_train.shape[0]))\n",
        "    trainStump = int(trainPer*X_train.shape[0])\n",
        "    np.random.shuffle(indices)\n",
        "    train_ = indices[:trainStump]\n",
        "    XTrainStump = X_train[train_]\n",
        "    YTrainStump = y_train[train_]\n",
        "    clf = clf.fit(XTrainStump, YTrainStump)\n",
        "    yPredTest = clf.predict(X_test)\n",
        "    accJoint_.append(yPredTest)\n",
        "\n",
        "\n",
        "print(\"The accuracy of ensemble method is: \", jointAccuracy(accJoint_, y_test))"
      ],
      "execution_count": null,
      "outputs": [
        {
          "output_type": "stream",
          "name": "stdout",
          "text": [
            "The accuracy of ensemble method is:  0.9122299969577122\n"
          ]
        }
      ]
    },
    {
      "cell_type": "code",
      "metadata": {
        "id": "TzyLNQwUJfZv"
      },
      "source": [
        "# 1.e\n",
        "from sklearn.ensemble import AdaBoostClassifier"
      ],
      "execution_count": null,
      "outputs": []
    },
    {
      "cell_type": "code",
      "metadata": {
        "colab": {
          "base_uri": "https://localhost:8080/"
        },
        "id": "wO2RCYxXLj8y",
        "outputId": "7e2ceeba-402c-4cbe-989c-3a09f2bb6c48"
      },
      "source": [
        "clf = AdaBoostClassifier(base_estimator=tree.DecisionTreeClassifier(max_depth=100), n_estimators=100)\n",
        "clf.fit(X_train, y_train)\n",
        "yPredAda = clf.predict(X_test)\n",
        "accuracy(yPredAda, y_test)"
      ],
      "execution_count": null,
      "outputs": [
        {
          "output_type": "execute_result",
          "data": {
            "text/plain": [
              "0.8317614846364466"
            ]
          },
          "metadata": {},
          "execution_count": 131
        }
      ]
    },
    {
      "cell_type": "code",
      "metadata": {
        "id": "y3wB9vR-ttuP"
      },
      "source": [
        "estimators = [4, 8, 10, 15, 20, 30] \n",
        "adaAcc = []\n",
        "for i in estimators:\n",
        "    clf = AdaBoostClassifier(n_estimators=i)\n",
        "    clf.fit(X_train, y_train)\n",
        "    yPredAda = clf.predict(X_test)\n",
        "    adaAcc.append(accuracy(yPredAda, y_test))\n"
      ],
      "execution_count": null,
      "outputs": []
    },
    {
      "cell_type": "code",
      "metadata": {
        "colab": {
          "base_uri": "https://localhost:8080/",
          "height": 295
        },
        "id": "gry6EQydtw71",
        "outputId": "85abeb01-17fe-4edf-bb90-5166fbfdfe54"
      },
      "source": [
        "plt.plot(estimators, adaAcc, label = \"Adaboost\")\n",
        "plt.title(\"Accuracy\")\n",
        "plt.xlabel(\"Number of estimators\")\n",
        "plt.ylabel(\"Accuracy\")\n",
        "plt.legend(loc = \"upper right\")\n",
        "plt.show()"
      ],
      "execution_count": null,
      "outputs": [
        {
          "output_type": "display_data",
          "data": {
            "image/png": "[encoded data removed]",
            "text/plain": [
              "<Figure size 432x288 with 1 Axes>"
            ]
          },
          "metadata": {
            "needs_background": "light"
          }
        }
      ]
    },
    {
      "cell_type": "code",
      "metadata": {
        "id": "q8A4s-YgPd7e"
      },
      "source": [
        "estimators = [2, 4, 8, 10, 15, 20, 30] \n",
        "adaAcc = []\n",
        "for i in estimators:\n",
        "    clf = AdaBoostClassifier(base_estimator=tree.DecisionTreeClassifier(max_depth=1), n_estimators=i)\n",
        "    clf.fit(X_train, y_train)\n",
        "    yPredAda = clf.predict(X_test)\n",
        "    adaAcc.append(accuracy(yPredAda, y_test))\n"
      ],
      "execution_count": null,
      "outputs": []
    },
    {
      "cell_type": "code",
      "metadata": {
        "colab": {
          "base_uri": "https://localhost:8080/",
          "height": 295
        },
        "id": "6153TthLsS0I",
        "outputId": "a82af776-f354-47ce-ac65-9bb3faaaae0c"
      },
      "source": [
        "plt.plot(estimators, adaAcc, label = \"Adaboost\")\n",
        "plt.title(\"Accuracy\")\n",
        "plt.xlabel(\"Number of estimators\")\n",
        "plt.ylabel(\"Accuracy\")\n",
        "plt.legend(loc = \"upper right\")\n",
        "plt.show()"
      ],
      "execution_count": null,
      "outputs": [
        {
          "output_type": "display_data",
          "data": {
            "image/png": "[encoded data removed]",
            "text/plain": [
              "<Figure size 432x288 with 1 Axes>"
            ]
          },
          "metadata": {
            "needs_background": "light"
          }
        }
      ]
    },
    {
      "cell_type": "code",
      "metadata": {
        "id": "mrnHvmoivHrF"
      },
      "source": [
        "# Comparison/ Left\n",
        "plt.plot(estimators, adaAcc, label = \"Adaboost\")\n",
        "plt.plot(estimators, adaAcc, label = \"Random Forest\")\n",
        "plt.title(\"Accuracy\")\n",
        "plt.xlabel(\"Number of estimators\")\n",
        "plt.ylabel(\"Accuracy\")\n",
        "plt.legend(loc = \"upper right\")\n",
        "plt.show()\n"
      ],
      "execution_count": null,
      "outputs": []
    }
  ]
}