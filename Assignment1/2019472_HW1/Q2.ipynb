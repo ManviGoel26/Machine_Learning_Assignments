{
  "nbformat": 4,
  "nbformat_minor": 0,
  "metadata": {
    "colab": {
      "name": "Q2.ipynb",
      "provenance": [],
      "collapsed_sections": []
    },
    "kernelspec": {
      "name": "python3",
      "display_name": "Python 3"
    },
    "language_info": {
      "name": "python"
    }
  },
  "cells": [
    {
      "cell_type": "code",
      "metadata": {
        "id": "Mc6rjARshvpR"
      },
      "source": [
        "# Import required libraries\n",
        "import numpy as np\n",
        "import pandas as pd\n",
        "import matplotlib.pyplot as plt\n",
        "from random import seed\n",
        "from io import StringIO\n",
        "\n"
      ],
      "execution_count": 1,
      "outputs": []
    },
    {
      "cell_type": "code",
      "metadata": {
        "id": "LobRVR_LQF3h",
        "colab": {
          "base_uri": "https://localhost:8080/",
          "height": 204
        },
        "outputId": "d7ec7c14-fda8-4908-c2c8-b49e9000a730"
      },
      "source": [
        "# Load the dataset\n",
        "dataset = pd.read_csv(\"diabetes2.csv\")\n",
        "dataset.head()"
      ],
      "execution_count": 21,
      "outputs": [
        {
          "output_type": "execute_result",
          "data": {
            "text/html": [
              "<div>\n",
              "<style scoped>\n",
              "    .dataframe tbody tr th:only-of-type {\n",
              "        vertical-align: middle;\n",
              "    }\n",
              "\n",
              "    .dataframe tbody tr th {\n",
              "        vertical-align: top;\n",
              "    }\n",
              "\n",
              "    .dataframe thead th {\n",
              "        text-align: right;\n",
              "    }\n",
              "</style>\n",
              "<table border=\"1\" class=\"dataframe\">\n",
              "  <thead>\n",
              "    <tr style=\"text-align: right;\">\n",
              "      <th></th>\n",
              "      <th>Pregnancies</th>\n",
              "      <th>Glucose</th>\n",
              "      <th>BloodPressure</th>\n",
              "      <th>SkinThickness</th>\n",
              "      <th>Insulin</th>\n",
              "      <th>BMI</th>\n",
              "      <th>DiabetesPedigreeFunction</th>\n",
              "      <th>Age</th>\n",
              "      <th>Outcome</th>\n",
              "    </tr>\n",
              "  </thead>\n",
              "  <tbody>\n",
              "    <tr>\n",
              "      <th>0</th>\n",
              "      <td>6</td>\n",
              "      <td>148</td>\n",
              "      <td>72</td>\n",
              "      <td>35</td>\n",
              "      <td>0</td>\n",
              "      <td>33.6</td>\n",
              "      <td>0.627</td>\n",
              "      <td>50</td>\n",
              "      <td>1</td>\n",
              "    </tr>\n",
              "    <tr>\n",
              "      <th>1</th>\n",
              "      <td>1</td>\n",
              "      <td>85</td>\n",
              "      <td>66</td>\n",
              "      <td>29</td>\n",
              "      <td>0</td>\n",
              "      <td>26.6</td>\n",
              "      <td>0.351</td>\n",
              "      <td>31</td>\n",
              "      <td>0</td>\n",
              "    </tr>\n",
              "    <tr>\n",
              "      <th>2</th>\n",
              "      <td>8</td>\n",
              "      <td>183</td>\n",
              "      <td>64</td>\n",
              "      <td>0</td>\n",
              "      <td>0</td>\n",
              "      <td>23.3</td>\n",
              "      <td>0.672</td>\n",
              "      <td>32</td>\n",
              "      <td>1</td>\n",
              "    </tr>\n",
              "    <tr>\n",
              "      <th>3</th>\n",
              "      <td>1</td>\n",
              "      <td>89</td>\n",
              "      <td>66</td>\n",
              "      <td>23</td>\n",
              "      <td>94</td>\n",
              "      <td>28.1</td>\n",
              "      <td>0.167</td>\n",
              "      <td>21</td>\n",
              "      <td>0</td>\n",
              "    </tr>\n",
              "    <tr>\n",
              "      <th>4</th>\n",
              "      <td>0</td>\n",
              "      <td>137</td>\n",
              "      <td>40</td>\n",
              "      <td>35</td>\n",
              "      <td>168</td>\n",
              "      <td>43.1</td>\n",
              "      <td>2.288</td>\n",
              "      <td>33</td>\n",
              "      <td>1</td>\n",
              "    </tr>\n",
              "  </tbody>\n",
              "</table>\n",
              "</div>"
            ],
            "text/plain": [
              "   Pregnancies  Glucose  BloodPressure  ...  DiabetesPedigreeFunction  Age  Outcome\n",
              "0            6      148             72  ...                     0.627   50        1\n",
              "1            1       85             66  ...                     0.351   31        0\n",
              "2            8      183             64  ...                     0.672   32        1\n",
              "3            1       89             66  ...                     0.167   21        0\n",
              "4            0      137             40  ...                     2.288   33        1\n",
              "\n",
              "[5 rows x 9 columns]"
            ]
          },
          "metadata": {},
          "execution_count": 21
        }
      ]
    },
    {
      "cell_type": "code",
      "metadata": {
        "colab": {
          "base_uri": "https://localhost:8080/"
        },
        "id": "Kk1IjaVdNEF0",
        "outputId": "1f5bff59-dadb-428f-82f6-e03e06042ebb"
      },
      "source": [
        "dataset.info()"
      ],
      "execution_count": 4,
      "outputs": [
        {
          "output_type": "stream",
          "name": "stdout",
          "text": [
            "<class 'pandas.core.frame.DataFrame'>\n",
            "RangeIndex: 768 entries, 0 to 767\n",
            "Data columns (total 9 columns):\n",
            " #   Column                    Non-Null Count  Dtype  \n",
            "---  ------                    --------------  -----  \n",
            " 0   Pregnancies               768 non-null    int64  \n",
            " 1   Glucose                   768 non-null    int64  \n",
            " 2   BloodPressure             768 non-null    int64  \n",
            " 3   SkinThickness             768 non-null    int64  \n",
            " 4   Insulin                   768 non-null    int64  \n",
            " 5   BMI                       768 non-null    float64\n",
            " 6   DiabetesPedigreeFunction  768 non-null    float64\n",
            " 7   Age                       768 non-null    int64  \n",
            " 8   Outcome                   768 non-null    int64  \n",
            "dtypes: float64(2), int64(7)\n",
            "memory usage: 54.1 KB\n"
          ]
        }
      ]
    },
    {
      "cell_type": "code",
      "metadata": {
        "id": "JbXer8fSNtlB"
      },
      "source": [
        "# Replace the Nan values with 0\n",
        "dataset[['Glucose','BloodPressure','SkinThickness','Insulin','BMI']] = dataset[['Glucose','BloodPressure','SkinThickness','Insulin','BMI']].replace(0,np.NaN)\n"
      ],
      "execution_count": 5,
      "outputs": []
    },
    {
      "cell_type": "code",
      "metadata": {
        "colab": {
          "base_uri": "https://localhost:8080/",
          "height": 297
        },
        "id": "XrNfO6oPPcsI",
        "outputId": "ee6f5126-6624-4837-faea-745b77a8c0d6"
      },
      "source": [
        "dataset.describe()"
      ],
      "execution_count": 8,
      "outputs": [
        {
          "output_type": "execute_result",
          "data": {
            "text/html": [
              "<div>\n",
              "<style scoped>\n",
              "    .dataframe tbody tr th:only-of-type {\n",
              "        vertical-align: middle;\n",
              "    }\n",
              "\n",
              "    .dataframe tbody tr th {\n",
              "        vertical-align: top;\n",
              "    }\n",
              "\n",
              "    .dataframe thead th {\n",
              "        text-align: right;\n",
              "    }\n",
              "</style>\n",
              "<table border=\"1\" class=\"dataframe\">\n",
              "  <thead>\n",
              "    <tr style=\"text-align: right;\">\n",
              "      <th></th>\n",
              "      <th>Pregnancies</th>\n",
              "      <th>Glucose</th>\n",
              "      <th>BloodPressure</th>\n",
              "      <th>SkinThickness</th>\n",
              "      <th>Insulin</th>\n",
              "      <th>BMI</th>\n",
              "      <th>DiabetesPedigreeFunction</th>\n",
              "      <th>Age</th>\n",
              "      <th>Outcome</th>\n",
              "    </tr>\n",
              "  </thead>\n",
              "  <tbody>\n",
              "    <tr>\n",
              "      <th>count</th>\n",
              "      <td>768.000000</td>\n",
              "      <td>763.000000</td>\n",
              "      <td>733.000000</td>\n",
              "      <td>541.000000</td>\n",
              "      <td>394.000000</td>\n",
              "      <td>757.000000</td>\n",
              "      <td>768.000000</td>\n",
              "      <td>768.000000</td>\n",
              "      <td>768.000000</td>\n",
              "    </tr>\n",
              "    <tr>\n",
              "      <th>mean</th>\n",
              "      <td>3.845052</td>\n",
              "      <td>121.686763</td>\n",
              "      <td>72.405184</td>\n",
              "      <td>29.153420</td>\n",
              "      <td>155.548223</td>\n",
              "      <td>32.457464</td>\n",
              "      <td>0.471876</td>\n",
              "      <td>33.240885</td>\n",
              "      <td>0.348958</td>\n",
              "    </tr>\n",
              "    <tr>\n",
              "      <th>std</th>\n",
              "      <td>3.369578</td>\n",
              "      <td>30.535641</td>\n",
              "      <td>12.382158</td>\n",
              "      <td>10.476982</td>\n",
              "      <td>118.775855</td>\n",
              "      <td>6.924988</td>\n",
              "      <td>0.331329</td>\n",
              "      <td>11.760232</td>\n",
              "      <td>0.476951</td>\n",
              "    </tr>\n",
              "    <tr>\n",
              "      <th>min</th>\n",
              "      <td>0.000000</td>\n",
              "      <td>44.000000</td>\n",
              "      <td>24.000000</td>\n",
              "      <td>7.000000</td>\n",
              "      <td>14.000000</td>\n",
              "      <td>18.200000</td>\n",
              "      <td>0.078000</td>\n",
              "      <td>21.000000</td>\n",
              "      <td>0.000000</td>\n",
              "    </tr>\n",
              "    <tr>\n",
              "      <th>25%</th>\n",
              "      <td>1.000000</td>\n",
              "      <td>99.000000</td>\n",
              "      <td>64.000000</td>\n",
              "      <td>22.000000</td>\n",
              "      <td>76.250000</td>\n",
              "      <td>27.500000</td>\n",
              "      <td>0.243750</td>\n",
              "      <td>24.000000</td>\n",
              "      <td>0.000000</td>\n",
              "    </tr>\n",
              "    <tr>\n",
              "      <th>50%</th>\n",
              "      <td>3.000000</td>\n",
              "      <td>117.000000</td>\n",
              "      <td>72.000000</td>\n",
              "      <td>29.000000</td>\n",
              "      <td>125.000000</td>\n",
              "      <td>32.300000</td>\n",
              "      <td>0.372500</td>\n",
              "      <td>29.000000</td>\n",
              "      <td>0.000000</td>\n",
              "    </tr>\n",
              "    <tr>\n",
              "      <th>75%</th>\n",
              "      <td>6.000000</td>\n",
              "      <td>141.000000</td>\n",
              "      <td>80.000000</td>\n",
              "      <td>36.000000</td>\n",
              "      <td>190.000000</td>\n",
              "      <td>36.600000</td>\n",
              "      <td>0.626250</td>\n",
              "      <td>41.000000</td>\n",
              "      <td>1.000000</td>\n",
              "    </tr>\n",
              "    <tr>\n",
              "      <th>max</th>\n",
              "      <td>17.000000</td>\n",
              "      <td>199.000000</td>\n",
              "      <td>122.000000</td>\n",
              "      <td>99.000000</td>\n",
              "      <td>846.000000</td>\n",
              "      <td>67.100000</td>\n",
              "      <td>2.420000</td>\n",
              "      <td>81.000000</td>\n",
              "      <td>1.000000</td>\n",
              "    </tr>\n",
              "  </tbody>\n",
              "</table>\n",
              "</div>"
            ],
            "text/plain": [
              "       Pregnancies     Glucose  ...         Age     Outcome\n",
              "count   768.000000  763.000000  ...  768.000000  768.000000\n",
              "mean      3.845052  121.686763  ...   33.240885    0.348958\n",
              "std       3.369578   30.535641  ...   11.760232    0.476951\n",
              "min       0.000000   44.000000  ...   21.000000    0.000000\n",
              "25%       1.000000   99.000000  ...   24.000000    0.000000\n",
              "50%       3.000000  117.000000  ...   29.000000    0.000000\n",
              "75%       6.000000  141.000000  ...   41.000000    1.000000\n",
              "max      17.000000  199.000000  ...   81.000000    1.000000\n",
              "\n",
              "[8 rows x 9 columns]"
            ]
          },
          "metadata": {},
          "execution_count": 8
        }
      ]
    },
    {
      "cell_type": "code",
      "metadata": {
        "colab": {
          "base_uri": "https://localhost:8080/",
          "height": 752
        },
        "id": "SxsLI1BvQfsM",
        "outputId": "d99dde23-0cb5-47fa-9aad-5044326a5733"
      },
      "source": [
        "dataset.hist(figsize=(20,10), grid = True, layout=(4, 4), bins = 30)"
      ],
      "execution_count": 9,
      "outputs": [
        {
          "output_type": "execute_result",
          "data": {
            "text/plain": [
              "array([[<matplotlib.axes._subplots.AxesSubplot object at 0x7fc523d21a90>,\n",
              "        <matplotlib.axes._subplots.AxesSubplot object at 0x7fc52a2e6bd0>,\n",
              "        <matplotlib.axes._subplots.AxesSubplot object at 0x7fc523935510>,\n",
              "        <matplotlib.axes._subplots.AxesSubplot object at 0x7fc5238edb90>],\n",
              "       [<matplotlib.axes._subplots.AxesSubplot object at 0x7fc5238af250>,\n",
              "        <matplotlib.axes._subplots.AxesSubplot object at 0x7fc5238628d0>,\n",
              "        <matplotlib.axes._subplots.AxesSubplot object at 0x7fc523818fd0>,\n",
              "        <matplotlib.axes._subplots.AxesSubplot object at 0x7fc5237da5d0>],\n",
              "       [<matplotlib.axes._subplots.AxesSubplot object at 0x7fc5237da610>,\n",
              "        <matplotlib.axes._subplots.AxesSubplot object at 0x7fc52378cd90>,\n",
              "        <matplotlib.axes._subplots.AxesSubplot object at 0x7fc5237859d0>,\n",
              "        <matplotlib.axes._subplots.AxesSubplot object at 0x7fc523720a50>],\n",
              "       [<matplotlib.axes._subplots.AxesSubplot object at 0x7fc5236fd710>,\n",
              "        <matplotlib.axes._subplots.AxesSubplot object at 0x7fc5236b2d90>,\n",
              "        <matplotlib.axes._subplots.AxesSubplot object at 0x7fc523674450>,\n",
              "        <matplotlib.axes._subplots.AxesSubplot object at 0x7fc52362aad0>]],\n",
              "      dtype=object)"
            ]
          },
          "metadata": {},
          "execution_count": 9
        },
        {
          "output_type": "display_data",
          "data": {
            "image/png": "[encoded data removed]",
            "text/plain": [
              "<Figure size 1440x720 with 16 Axes>"
            ]
          },
          "metadata": {
            "needs_background": "light"
          }
        }
      ]
    },
    {
      "cell_type": "code",
      "metadata": {
        "colab": {
          "base_uri": "https://localhost:8080/"
        },
        "id": "XsQF5K8kQrE5",
        "outputId": "79026dd3-b232-445b-8ef9-c1746ad3dfbc"
      },
      "source": [
        "stringData =  dataset.select_dtypes(include=[np.object]).columns\n",
        "print(stringData)"
      ],
      "execution_count": 10,
      "outputs": [
        {
          "output_type": "stream",
          "name": "stdout",
          "text": [
            "Index([], dtype='object')\n"
          ]
        }
      ]
    },
    {
      "cell_type": "code",
      "metadata": {
        "colab": {
          "base_uri": "https://localhost:8080/",
          "height": 328
        },
        "id": "y9inDSYgQ89a",
        "outputId": "9e7832ba-520a-4434-b475-82a0dece5b65"
      },
      "source": [
        "# check the missing points\n",
        "missing = dataset.isnull().sum().sort_values(ascending = False)\n",
        "percentageMissing = (missing/len(dataset))*100\n",
        "pd.concat([missing, percentageMissing], axis = 1, keys= ['Number of missing values ', 'Percentage of Missing Values'])"
      ],
      "execution_count": 11,
      "outputs": [
        {
          "output_type": "execute_result",
          "data": {
            "text/html": [
              "<div>\n",
              "<style scoped>\n",
              "    .dataframe tbody tr th:only-of-type {\n",
              "        vertical-align: middle;\n",
              "    }\n",
              "\n",
              "    .dataframe tbody tr th {\n",
              "        vertical-align: top;\n",
              "    }\n",
              "\n",
              "    .dataframe thead th {\n",
              "        text-align: right;\n",
              "    }\n",
              "</style>\n",
              "<table border=\"1\" class=\"dataframe\">\n",
              "  <thead>\n",
              "    <tr style=\"text-align: right;\">\n",
              "      <th></th>\n",
              "      <th>Number of missing values</th>\n",
              "      <th>Percentage of Missing Values</th>\n",
              "    </tr>\n",
              "  </thead>\n",
              "  <tbody>\n",
              "    <tr>\n",
              "      <th>Insulin</th>\n",
              "      <td>374</td>\n",
              "      <td>48.697917</td>\n",
              "    </tr>\n",
              "    <tr>\n",
              "      <th>SkinThickness</th>\n",
              "      <td>227</td>\n",
              "      <td>29.557292</td>\n",
              "    </tr>\n",
              "    <tr>\n",
              "      <th>BloodPressure</th>\n",
              "      <td>35</td>\n",
              "      <td>4.557292</td>\n",
              "    </tr>\n",
              "    <tr>\n",
              "      <th>BMI</th>\n",
              "      <td>11</td>\n",
              "      <td>1.432292</td>\n",
              "    </tr>\n",
              "    <tr>\n",
              "      <th>Glucose</th>\n",
              "      <td>5</td>\n",
              "      <td>0.651042</td>\n",
              "    </tr>\n",
              "    <tr>\n",
              "      <th>Outcome</th>\n",
              "      <td>0</td>\n",
              "      <td>0.000000</td>\n",
              "    </tr>\n",
              "    <tr>\n",
              "      <th>Age</th>\n",
              "      <td>0</td>\n",
              "      <td>0.000000</td>\n",
              "    </tr>\n",
              "    <tr>\n",
              "      <th>DiabetesPedigreeFunction</th>\n",
              "      <td>0</td>\n",
              "      <td>0.000000</td>\n",
              "    </tr>\n",
              "    <tr>\n",
              "      <th>Pregnancies</th>\n",
              "      <td>0</td>\n",
              "      <td>0.000000</td>\n",
              "    </tr>\n",
              "  </tbody>\n",
              "</table>\n",
              "</div>"
            ],
            "text/plain": [
              "                          Number of missing values   Percentage of Missing Values\n",
              "Insulin                                         374                     48.697917\n",
              "SkinThickness                                   227                     29.557292\n",
              "BloodPressure                                    35                      4.557292\n",
              "BMI                                              11                      1.432292\n",
              "Glucose                                           5                      0.651042\n",
              "Outcome                                           0                      0.000000\n",
              "Age                                               0                      0.000000\n",
              "DiabetesPedigreeFunction                          0                      0.000000\n",
              "Pregnancies                                       0                      0.000000"
            ]
          },
          "metadata": {},
          "execution_count": 11
        }
      ]
    },
    {
      "cell_type": "code",
      "metadata": {
        "colab": {
          "base_uri": "https://localhost:8080/",
          "height": 505
        },
        "id": "RXtK6oMJRO3I",
        "outputId": "b190bb1a-8afc-46c9-bf83-6f1c26f94c00"
      },
      "source": [
        "dataset.boxplot(figsize = (30, 10))"
      ],
      "execution_count": 12,
      "outputs": [
        {
          "output_type": "stream",
          "name": "stderr",
          "text": [
            "/usr/local/lib/python3.7/dist-packages/numpy/core/_asarray.py:83: VisibleDeprecationWarning: Creating an ndarray from ragged nested sequences (which is a list-or-tuple of lists-or-tuples-or ndarrays with different lengths or shapes) is deprecated. If you meant to do this, you must specify 'dtype=object' when creating the ndarray\n",
            "  return array(a, dtype, copy=False, order=order)\n"
          ]
        },
        {
          "output_type": "execute_result",
          "data": {
            "text/plain": [
              "<matplotlib.axes._subplots.AxesSubplot at 0x7fc52398af50>"
            ]
          },
          "metadata": {},
          "execution_count": 12
        },
        {
          "output_type": "display_data",
          "data": {
            "image/png": "[encoded data removed]",
            "text/plain": [
              "<Figure size 2160x720 with 1 Axes>"
            ]
          },
          "metadata": {
            "needs_background": "light"
          }
        }
      ]
    },
    {
      "cell_type": "code",
      "metadata": {
        "id": "wMEllnJCYIcg"
      },
      "source": [
        "#Replacing the zero-values for Blood Pressure\n",
        "df1 = dataset.loc[dataset['Outcome'] == 1]\n",
        "df2 = dataset.loc[dataset['Outcome'] == 0]\n",
        "df1 = df1.replace({'BloodPressure':0}, np.median(df1['BloodPressure']))\n",
        "df2 = df2.replace({'BloodPressure':0}, np.median(df2['BloodPressure']))\n",
        "dataframe = [df1, df2]\n",
        "dataset = pd.concat(dataframe)"
      ],
      "execution_count": 22,
      "outputs": []
    },
    {
      "cell_type": "code",
      "metadata": {
        "id": "m7TdMiubRBNa"
      },
      "source": [
        "# Getting the values of y and X separately\n",
        "y = dataset.Outcome.values\n",
        "del dataset[\"Outcome\"]\n",
        "X = dataset.values.astype(np.float)"
      ],
      "execution_count": 23,
      "outputs": []
    },
    {
      "cell_type": "code",
      "metadata": {
        "id": "Mm3uBcOASj0P"
      },
      "source": [
        "# Splitting into training, validation and test sets\n",
        "seed(0)\n",
        "indices = list(range(X.shape[0]))\n",
        "training_instances = int(0.7*X.shape[0])\n",
        "validation_instances = int(0.2 * X.shape[0])\n",
        "np.random.shuffle(indices)\n",
        "train = indices[:training_instances]\n",
        "validation = indices[training_instances:training_instances + validation_instances + 1]\n",
        "test = indices[training_instances + validation_instances + 1:]"
      ],
      "execution_count": 24,
      "outputs": []
    },
    {
      "cell_type": "code",
      "metadata": {
        "id": "vc_lv_DaUixK"
      },
      "source": [
        "X_train, X_validation, X_test = X[train], X[validation], X[test]\n",
        "y_train, y_validation, y_test = y[train], y[validation], y[test]"
      ],
      "execution_count": 25,
      "outputs": []
    },
    {
      "cell_type": "code",
      "metadata": {
        "id": "vJxw7U6bVH7g"
      },
      "source": [
        "# Noramlising the data\n",
        "means = np.mean(X_train, axis = 0)\n",
        "stds = np.std(X_train, axis = 0)\n",
        "\n",
        "X_train = (X_train - means)/stds\n",
        "X_validation = (X_validation - means)/stds\n",
        "X_test = (X_test - means)/stds\n",
        "\n",
        "\n",
        "\n",
        "# adding an extra column for intercept\n",
        "X_train = np.column_stack(([1] * X_train.shape[0], X_train))\n",
        "X_test = np.column_stack(([1]*X_test.shape[0], X_test))\n",
        "X_validation = np.column_stack(([1]*X_validation.shape[0], X_validation))"
      ],
      "execution_count": 26,
      "outputs": []
    },
    {
      "cell_type": "code",
      "metadata": {
        "id": "4-rhVUPoV29r"
      },
      "source": [
        "# Logistic Regression functions\n",
        "def sigmoid(X):\n",
        "  return 1/(1 + np.exp(-X))\n",
        "\n",
        "# Mean Squared Error\n",
        "def mse(y, yProb):\n",
        "    return np.square(np.subtract(y, yProb)).mean()\n",
        "\n",
        "# Log based cost function\n",
        "def cost(y, yProb):\n",
        "  sizeY = len(y)\n",
        "  cost = -1/(sizeY) * sum((y*np.log(yProb)) + (1 - y) * np.log(1 - yProb))\n",
        "  return cost\n",
        "\n",
        "\n",
        "# SGD\n",
        "def stochasticGradientDescent(X, y, coeffMatrix, alpha, n_iters, X_valid, y_valid):\n",
        "\n",
        "  costValues = [0]*n_iters\n",
        "  costValuesValidation = [0]*n_iters\n",
        "  sizeY = len(y)\n",
        "  \n",
        "  for iter in range(n_iters):\n",
        "    yPrime = np.matmul(X, coeffMatrix)\n",
        "    yProb = sigmoid(yPrime)\n",
        "\n",
        "    costVal = mse(y, yProb)\n",
        "    costValues[iter] = costVal\n",
        "\n",
        "    # Calculating validation error\n",
        "    costValValidation = mse(y_valid, sigmoid(np.matmul(X_valid, coeffMatrix)))\n",
        "    costValuesValidation[iter] = costValValidation\n",
        "\n",
        "    updateCoeff = []\n",
        "    for col in range(X.shape[1]):\n",
        "      # updating the theta for mean value of X.\n",
        "      coeff = round(coeffMatrix[col] - alpha/sizeY * sum((yProb - y) * X[: , col]), 4)\n",
        "      updateCoeff.append(coeff)\n",
        "    \n",
        "    # Update theta matrix\n",
        "    coeffMatrix = updateCoeff\n",
        "\n",
        "  # Final Coefficients and model cost\n",
        "  print(\"Final Model Coefficients: \")\n",
        "  print(coeffMatrix)\n",
        "  print(\"Final Model Cost: \")\n",
        "  print(costValues[-1])\n",
        "\n",
        "  return coeffMatrix, costValues, costValuesValidation\n",
        "\n",
        "\n",
        "# BGD\n",
        "def BatchGradientDescent(X, y, coeffMatrix, alpha, n_iters, X_valid, y_valid):\n",
        "    costValues = [0] * (n_iters)\n",
        "    costValuesValidation = [0]*n_iters\n",
        "    sizeY = len(y)\n",
        "  \n",
        "    for iter in range(n_iters):\n",
        "      # Updating the entire theta matrix at once.\n",
        "      # calculating sigmoid y\n",
        "      yProb = sigmoid(np.dot(X, coeffMatrix.T))\n",
        "\n",
        "      costValues[iter] = mse(yProb, y)\n",
        "\n",
        "      # Calculating validation error\n",
        "      costValValidation = mse(y_valid, sigmoid(np.matmul(X_valid, coeffMatrix)))\n",
        "      costValuesValidation[iter] = costValValidation\n",
        "\n",
        "\n",
        "      # Calculate gradient\n",
        "      gradient = alpha * (1/sizeY) * (yProb - y).dot(X)\n",
        "\n",
        "      # Update theta\n",
        "      coeffMatrix = coeffMatrix - gradient\n",
        "      \n",
        "    # Final Coefficients and model cost\n",
        "    print(\"Final Model Coefficients: \")\n",
        "    print(coeffMatrix)\n",
        "    print(\"Final Model Cost: \", costValues[-1])\n",
        "\n",
        "        \n",
        "    return coeffMatrix, costValues, costValuesValidation\n",
        "\n",
        "\n",
        "def LogisticRegressionS(X, y, alpha, n_iters, X_valid, y_valid, category = \"SGD\"):\n",
        "\n",
        "    # Initial coeffMatrix\n",
        "    coeffMatrix = np.zeros((len(X[0])))\n",
        "\n",
        "    # Calculate the initial cost\n",
        "    yP = np.matmul(X, coeffMatrix)\n",
        "    initialCost = cost(y, sigmoid(yP))\n",
        "    print(\"Initial Model Cost: \", initialCost)\n",
        "\n",
        "    # Calling the gradient descent with alpha and number of iterations\n",
        "    \n",
        "    if category == \"SGD\":\n",
        "      coeffMatrix, costValues, validationErrors = stochasticGradientDescent(X, y, coeffMatrix, alpha, n_iters, X_valid, y_valid)\n",
        "    \n",
        "    else:\n",
        "      coeffMatrix, costValues, validationErrors = BatchGradientDescent(X, y, coeffMatrix, alpha, n_iters, X_valid, y_valid)\n",
        "\n",
        "    return coeffMatrix, costValues, validationErrors\n",
        "\n",
        "def predict(X, coeffMatrix):\n",
        "\n",
        "  # Linear Regression\n",
        "  yPrime = np.matmul(X, coeffMatrix) \n",
        "\n",
        "  # Calculate sigmoid function\n",
        "  yProb = sigmoid(yPrime) \n",
        "\n",
        "  # Predict\n",
        "  y_pred = [1 if y > 0.5 else 0 for y in yProb]\n",
        "\n",
        "  return y_pred \n",
        "\n"
      ],
      "execution_count": 27,
      "outputs": []
    },
    {
      "cell_type": "code",
      "metadata": {
        "id": "cymxxkDY6Mgr",
        "colab": {
          "base_uri": "https://localhost:8080/",
          "height": 350
        },
        "outputId": "e38d2318-290d-41e2-b725-4d013ece09d5"
      },
      "source": [
        "# 1st Model using SGD\n",
        "iters = 200\n",
        "a = 0.1\n",
        "logisticModel, costValues, validationErrors = LogisticRegressionS(X_train, y_train, a, iters, X_validation, y_validation, \"SGD\")\n",
        "\n",
        "\n",
        "# Plot iteration vs training loss and validation errors.\n",
        "plt.plot(list(range(iters)), costValues, 'b')\n",
        "plt.plot(list(range(iters)), validationErrors, 'g')\n",
        "plt.show()"
      ],
      "execution_count": 31,
      "outputs": [
        {
          "output_type": "stream",
          "name": "stdout",
          "text": [
            "Initial Model Cost:  0.6931471805599468\n",
            "Final Model Coefficients: \n",
            "[-0.8956, 0.3242, 1.0055, 0.0121, -0.0756, -0.1241, 0.6813, 0.2817, 0.13]\n",
            "Final Model Cost: \n",
            "0.14594275086290218\n"
          ]
        },
        {
          "output_type": "display_data",
          "data": {
            "image/png": "[encoded data removed]",
            "text/plain": [
              "<Figure size 432x288 with 1 Axes>"
            ]
          },
          "metadata": {
            "needs_background": "light"
          }
        }
      ]
    },
    {
      "cell_type": "code",
      "metadata": {
        "id": "-uE4M9VLN9Yi",
        "colab": {
          "base_uri": "https://localhost:8080/",
          "height": 1000
        },
        "outputId": "a1422f45-ca5f-43fd-e9db-0e5c71e5463e"
      },
      "source": [
        "# 2. 1. (b)\n",
        "# Different Learing Rates. \n",
        "LearningRates = [0.01, 0.00001, 10]\n",
        "\n",
        "for lr in LearningRates:\n",
        "  logisticModel, costValues, validationErrors = LogisticRegressionS(X_train, y_train, lr, iters, X_validation, y_validation, \"SGD\")\n",
        "  \n",
        "  # Plot iteration vs training loss and validation errors.\n",
        "  plt.plot(list(range(iters)), costValues, 'b')\n",
        "  plt.plot(list(range(iters)), validationErrors, 'g')\n",
        "  plt.show()\n"
      ],
      "execution_count": 32,
      "outputs": [
        {
          "output_type": "stream",
          "name": "stdout",
          "text": [
            "Initial Model Cost:  0.6931471805599468\n",
            "Final Model Coefficients: \n",
            "[-0.2682, 0.1358, 0.3244, 0.092, 0.0195, 0.0403, 0.2062, 0.116, 0.1177]\n",
            "Final Model Cost: \n",
            "0.1815486457823289\n"
          ]
        },
        {
          "output_type": "display_data",
          "data": {
            "image/png": "[encoded data removed]",
            "text/plain": [
              "<Figure size 432x288 with 1 Axes>"
            ]
          },
          "metadata": {
            "needs_background": "light"
          }
        },
        {
          "output_type": "stream",
          "name": "stdout",
          "text": [
            "Initial Model Cost:  0.6931471805599468\n",
            "Final Model Coefficients: \n",
            "[-0.0, 0.0, 0.0, 0.0, 0.0, 0.0, 0.0, 0.0, 0.0]\n",
            "Final Model Cost: \n",
            "0.25\n"
          ]
        },
        {
          "output_type": "display_data",
          "data": {
            "image/png": "[encoded data removed]",
            "text/plain": [
              "<Figure size 432x288 with 1 Axes>"
            ]
          },
          "metadata": {
            "needs_background": "light"
          }
        },
        {
          "output_type": "stream",
          "name": "stdout",
          "text": [
            "Initial Model Cost:  0.6931471805599468\n",
            "Final Model Coefficients: \n",
            "[-1.4139, 0.0344, 1.8529, -0.3511, 0.5984, 0.3244, 1.5665, 0.8033, -0.6184]\n",
            "Final Model Cost: \n",
            "0.19784432812687042\n"
          ]
        },
        {
          "output_type": "display_data",
          "data": {
            "image/png": "[encoded data removed]",
            "text/plain": [
              "<Figure size 432x288 with 1 Axes>"
            ]
          },
          "metadata": {
            "needs_background": "light"
          }
        }
      ]
    },
    {
      "cell_type": "code",
      "metadata": {
        "id": "YxeJMOn8O1ui",
        "colab": {
          "base_uri": "https://localhost:8080/"
        },
        "outputId": "4942edd4-d1be-4820-d615-b46c873522aa"
      },
      "source": [
        "iters = 100\n",
        "a = 0.01\n",
        "logisticModel, costValues, validationErrors = LogisticRegressionS(X_train, y_train, a, iters, X_validation, y_validation, \"SGD\")\n",
        "yTest_pred = predict(X_test, logisticModel)\n",
        "\n",
        "\n",
        "fp = 0\n",
        "fn = 0\n",
        "\n",
        "tp = 0\n",
        "tn = 0\n",
        "\n",
        "for actual_value, predicted_value in zip(y_test, yTest_pred):\n",
        "    if predicted_value == actual_value:\n",
        "        if predicted_value == 1:\n",
        "            tp += 1\n",
        "        else:\n",
        "            tn += 1\n",
        "    else: \n",
        "        if predicted_value == 1:\n",
        "            fp += 1\n",
        "        else:\n",
        "            fn += 1\n",
        "            \n",
        "confusionMatrix = [[tn, fp], [fn, tp]]\n",
        "\n",
        "confusionMatrix = np.array(confusionMatrix)\n",
        "print(\"The confusion matrix: \")\n",
        "print(confusionMatrix)\n",
        "print()\n",
        "\n",
        "f1_score = tp/(tp + (fp + fn)/2)\n",
        "print(\"The f1 score is: \", f1_score, \"\\n\")\n",
        "\n",
        "precision = tp/(tp + fp)\n",
        "print(\"The precision is: \", precision, \"\\n\")\n",
        "\n",
        "recall = tp/(tp + fn)\n",
        "print(\"The recall is: \", recall, \"\\n\")\n",
        "\n",
        "accuracy = (tp + tn)/(tp+tn+fn+fp)\n",
        "print(\"The accuracy is: \", accuracy, \"\\n\")\n",
        "\n"
      ],
      "execution_count": 35,
      "outputs": [
        {
          "output_type": "stream",
          "name": "stdout",
          "text": [
            "Initial Model Cost:  0.6931471805599468\n",
            "Final Model Coefficients: \n",
            "[-0.1495, 0.0836, 0.1893, 0.0614, 0.0174, 0.0312, 0.1211, 0.0704, 0.0767]\n",
            "Final Model Cost: \n",
            "0.20293888260602883\n",
            "The confusion matrix: \n",
            "[[38  9]\n",
            " [14 16]]\n",
            "\n",
            "The f1 score is:  0.5818181818181818 \n",
            "\n",
            "The precision is:  0.64 \n",
            "\n",
            "The recall is:  0.5333333333333333 \n",
            "\n",
            "The accuracy is:  0.7012987012987013 \n",
            "\n"
          ]
        }
      ]
    },
    {
      "cell_type": "code",
      "metadata": {
        "colab": {
          "base_uri": "https://localhost:8080/",
          "height": 350
        },
        "id": "19VTZ77hRFdj",
        "outputId": "ccba8072-5d02-458c-cf36-baad8d8bd49a"
      },
      "source": [
        "# Models using BGD.\n",
        "iters = 100\n",
        "a = 0.1\n",
        "logisticModel, costValues, validationErrors = LogisticRegressionS(X_train, y_train, a, iters, X_validation, y_validation, \"BGD\")\n",
        "\n",
        "\n",
        "# Plot iteration vs training loss and validation errors.\n",
        "plt.plot(list(range(iters)), costValues, 'b')\n",
        "plt.plot(list(range(iters)), validationErrors, 'g')\n",
        "plt.show()"
      ],
      "execution_count": 36,
      "outputs": [
        {
          "output_type": "stream",
          "name": "stdout",
          "text": [
            "Initial Model Cost:  0.6931471805599468\n",
            "Final Model Coefficients: \n",
            "[-0.7271697   0.271571    0.80041528  0.08168868 -0.03989087 -0.03767576\n",
            "  0.52006547  0.24469563  0.15409408]\n",
            "Final Model Cost:  0.14981348874995823\n"
          ]
        },
        {
          "output_type": "display_data",
          "data": {
            "image/png": "[encoded data removed]",
            "text/plain": [
              "<Figure size 432x288 with 1 Axes>"
            ]
          },
          "metadata": {
            "needs_background": "light"
          }
        }
      ]
    },
    {
      "cell_type": "code",
      "metadata": {
        "colab": {
          "base_uri": "https://localhost:8080/",
          "height": 1000
        },
        "id": "f6Ofi2DJRXAk",
        "outputId": "d6b029c5-562f-4e27-fe10-35ba993950b8"
      },
      "source": [
        "# 2. 1. (b)\n",
        "# Different Learing Rates. \n",
        "LearningRates = [0.01, 0.00001, 10]\n",
        "\n",
        "for lr in LearningRates:\n",
        "  logisticModel, costValues, validationErrors = LogisticRegressionS(X_train, y_train, lr, iters, X_validation, y_validation, \"BGD\")\n",
        "  \n",
        "  # Plot iteration vs training loss and validation errors.\n",
        "  plt.plot(list(range(iters)), costValues, 'b')\n",
        "  plt.plot(list(range(iters)), validationErrors, 'g')\n",
        "  plt.show()\n"
      ],
      "execution_count": 37,
      "outputs": [
        {
          "output_type": "stream",
          "name": "stdout",
          "text": [
            "Initial Model Cost:  0.6931471805599468\n",
            "Final Model Coefficients: \n",
            "[-0.14954178  0.08344099  0.1891629   0.06153227  0.0174964   0.03128463\n",
            "  0.12130003  0.0701579   0.07651399]\n",
            "Final Model Cost:  0.2029457616930269\n"
          ]
        },
        {
          "output_type": "display_data",
          "data": {
            "image/png": "[encoded data removed]",
            "text/plain": [
              "<Figure size 432x288 with 1 Axes>"
            ]
          },
          "metadata": {
            "needs_background": "light"
          }
        },
        {
          "output_type": "stream",
          "name": "stdout",
          "text": [
            "Initial Model Cost:  0.6931471805599468\n",
            "Final Model Coefficients: \n",
            "[-1.68508010e-04  1.05608555e-04  2.26925125e-04  8.39578643e-05\n",
            "  2.95825210e-05  4.80189079e-05  1.47350271e-04  8.75737518e-05\n",
            "  1.01913610e-04]\n",
            "Final Model Cost:  0.24993018473678533\n"
          ]
        },
        {
          "output_type": "display_data",
          "data": {
            "image/png": "[encoded data removed]",
            "text/plain": [
              "<Figure size 432x288 with 1 Axes>"
            ]
          },
          "metadata": {
            "needs_background": "light"
          }
        },
        {
          "output_type": "stream",
          "name": "stdout",
          "text": [
            "Initial Model Cost:  0.6931471805599468\n",
            "Final Model Coefficients: \n",
            "[-1.41393347  0.03436338  1.85285522 -0.35110084  0.59841189  0.32439765\n",
            "  1.56647374  0.80325815 -0.61835414]\n",
            "Final Model Cost:  0.19784405600797664\n"
          ]
        },
        {
          "output_type": "display_data",
          "data": {
            "image/png": "[encoded data removed]",
            "text/plain": [
              "<Figure size 432x288 with 1 Axes>"
            ]
          },
          "metadata": {
            "needs_background": "light"
          }
        }
      ]
    },
    {
      "cell_type": "code",
      "metadata": {
        "id": "YOx7EF7kpR9c",
        "colab": {
          "base_uri": "https://localhost:8080/"
        },
        "outputId": "9db578b5-3755-4856-e311-4a81cc13988e"
      },
      "source": [
        "iters = 100\n",
        "a = 0.01\n",
        "logisticModel, costValues, validationErrors = LogisticRegressionS(X_train, y_train, a, iters, X_validation, y_validation, \"BGD\")\n",
        "yTest_pred = predict(X_test, logisticModel)\n",
        "\n",
        "\n",
        "fp = 0\n",
        "fn = 0\n",
        "\n",
        "tp = 0\n",
        "tn = 0\n",
        "\n",
        "for actual_value, predicted_value in zip(y_test, yTest_pred):\n",
        "    if predicted_value == actual_value:\n",
        "        if predicted_value == 1:\n",
        "            tp += 1\n",
        "        else:\n",
        "            tn += 1\n",
        "    else: \n",
        "        if predicted_value == 1:\n",
        "            fp += 1\n",
        "        else:\n",
        "            fn += 1\n",
        "            \n",
        "confusionMatrix = [[tn, fp], [fn, tp]]\n",
        "\n",
        "confusionMatrix = np.array(confusionMatrix)\n",
        "print(\"The confusion matrix: \")\n",
        "print(confusionMatrix)\n",
        "print()\n",
        "\n",
        "f1_score = tp/(tp + (fp + fn)/2)\n",
        "print(\"The f1 score is: \", f1_score, \"\\n\")\n",
        "\n",
        "precision = tp/(tp + fp)\n",
        "print(\"The precision is: \", precision, \"\\n\")\n",
        "\n",
        "recall = tp/(tp + fn)\n",
        "print(\"The recall is: \", recall, \"\\n\")\n",
        "\n",
        "accuracy = (tp + tn)/(tp+tn+fn+fp)\n",
        "print(\"The accuracy is: \", accuracy, \"\\n\")\n",
        "\n"
      ],
      "execution_count": 38,
      "outputs": [
        {
          "output_type": "stream",
          "name": "stdout",
          "text": [
            "Initial Model Cost:  0.6931471805599468\n",
            "Final Model Coefficients: \n",
            "[-0.14954178  0.08344099  0.1891629   0.06153227  0.0174964   0.03128463\n",
            "  0.12130003  0.0701579   0.07651399]\n",
            "Final Model Cost:  0.2029457616930269\n",
            "The confusion matrix: \n",
            "[[38  9]\n",
            " [14 16]]\n",
            "\n",
            "The f1 score is:  0.5818181818181818 \n",
            "\n",
            "The precision is:  0.64 \n",
            "\n",
            "The recall is:  0.5333333333333333 \n",
            "\n",
            "The accuracy is:  0.7012987012987013 \n",
            "\n"
          ]
        }
      ]
    },
    {
      "cell_type": "code",
      "metadata": {
        "colab": {
          "base_uri": "https://localhost:8080/",
          "height": 265
        },
        "id": "NBFxjZUx-6ng",
        "outputId": "b6f78d21-1c12-46a4-d829-59e3e8b6b756"
      },
      "source": [
        "from sklearn.linear_model import SGDClassifier\n",
        "import sys\n",
        "\n",
        "Oldstdout = sys.stdout\n",
        "sys.stdout = mystdout = StringIO()\n",
        "\n",
        "LogisticRegressionModel = SGDClassifier(loss = 'log', verbose = '1')\n",
        "LogisticRegressionModel.fit(X_train, y_train)\n",
        "yTest_pred = LogisticRegressionModel.predict(X_test)\n",
        "\n",
        "sys.stdout = Oldstdout\n",
        "epochVals = mystdout.getvalue()\n",
        "\n",
        "yTest_pred = LogisticRegressionModel.predict(X_test)\n",
        "\n",
        "# Get loss plots\n",
        "lossValues = []\n",
        "for i in epochVals.split('\\n'):\n",
        "    if(len(i.split(\"loss: \")) == 1):\n",
        "        continue\n",
        "    lossValues.append(float(i.split(\"loss: \")[-1]))\n",
        "\n",
        "# Plot loss curve per epoch\n",
        "plt.plot(np.arange(len(lossValues)), lossValues)\n",
        "plt.show()\n"
      ],
      "execution_count": 44,
      "outputs": [
        {
          "output_type": "display_data",
          "data": {
            "image/png": "[encoded data removed]",
            "text/plain": [
              "<Figure size 432x288 with 1 Axes>"
            ]
          },
          "metadata": {
            "needs_background": "light"
          }
        }
      ]
    },
    {
      "cell_type": "code",
      "metadata": {
        "colab": {
          "base_uri": "https://localhost:8080/",
          "height": 265
        },
        "id": "plL_Zh_-Zpa0",
        "outputId": "f9f9996d-f68b-4141-b5cf-2c2dda838c86"
      },
      "source": [
        "FinalLoss = lossValues[-1]\n",
        "for i in range(len(lossValues), len(costValues)):\n",
        "  lossValues.append(FinalLoss)\n",
        "\n",
        "\n",
        "\n",
        "plt.plot(np.arange(len(lossValues)), lossValues)\n",
        "plt.plot(np.arange(len(lossValues)), costValues)\n",
        "plt.show()"
      ],
      "execution_count": 45,
      "outputs": [
        {
          "output_type": "display_data",
          "data": {
            "image/png": "[encoded data removed]",
            "text/plain": [
              "<Figure size 432x288 with 1 Axes>"
            ]
          },
          "metadata": {
            "needs_background": "light"
          }
        }
      ]
    },
    {
      "cell_type": "code",
      "metadata": {
        "colab": {
          "base_uri": "https://localhost:8080/"
        },
        "id": "GkKFaZw-ColJ",
        "outputId": "bb31b1e5-452f-429e-8f3e-cfe7316841ef"
      },
      "source": [
        "fp = 0\n",
        "fn = 0\n",
        "\n",
        "tp = 0\n",
        "tn = 0\n",
        "\n",
        "for actual_value, predicted_value in zip(y_test, yTest_pred):\n",
        "    if predicted_value == actual_value:\n",
        "        if predicted_value == 1:\n",
        "            tp += 1\n",
        "        else:\n",
        "            tn += 1\n",
        "    else: \n",
        "        if predicted_value == 1:\n",
        "            fp += 1\n",
        "        else:\n",
        "            fn += 1\n",
        "            \n",
        "confusionMatrix = [[tn, fp], [fn, tp]]\n",
        "\n",
        "confusionMatrix = np.array(confusionMatrix)\n",
        "print(\"The confusion matrix: \")\n",
        "print(confusionMatrix)\n",
        "print()\n",
        "\n",
        "f1_score = tp/(tp + (fp + fn)/2)\n",
        "print(\"The f1 score is: \", f1_score, \"\\n\")\n",
        "\n",
        "precision = tp/(tp + fp)\n",
        "print(\"The precision is: \", precision, \"\\n\")\n",
        "\n",
        "recall = tp/(tp + fn)\n",
        "print(\"The recall is: \", recall, \"\\n\")\n",
        "\n",
        "accuracy = (tp + tn)/(tp+tn+fn+fp)\n",
        "print(\"The accuracy is: \", accuracy, \"\\n\")\n",
        "\n"
      ],
      "execution_count": 46,
      "outputs": [
        {
          "output_type": "stream",
          "name": "stdout",
          "text": [
            "The confusion matrix: \n",
            "[[38  9]\n",
            " [15 15]]\n",
            "\n",
            "The f1 score is:  0.5555555555555556 \n",
            "\n",
            "The precision is:  0.625 \n",
            "\n",
            "The recall is:  0.5 \n",
            "\n",
            "The accuracy is:  0.6883116883116883 \n",
            "\n"
          ]
        }
      ]
    }
  ]
}