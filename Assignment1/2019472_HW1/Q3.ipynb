{
  "nbformat": 4,
  "nbformat_minor": 0,
  "metadata": {
    "colab": {
      "name": "Q3.ipynb",
      "provenance": [],
      "collapsed_sections": []
    },
    "kernelspec": {
      "name": "python3",
      "display_name": "Python 3"
    },
    "language_info": {
      "name": "python"
    }
  },
  "cells": [
    {
      "cell_type": "code",
      "metadata": {
        "id": "uK7G94zrSQ5J"
      },
      "source": [
        "# Import the required libraries\n",
        "import pandas as pd\n",
        "import numpy as np\n",
        "import matplotlib.pyplot as plt\n",
        "import random\n",
        "import math"
      ],
      "execution_count": 1,
      "outputs": []
    },
    {
      "cell_type": "code",
      "metadata": {
        "colab": {
          "base_uri": "https://localhost:8080/"
        },
        "id": "ymBHsUoieSpt",
        "outputId": "c172fd55-cb30-4686-c360-fc7df0eb54b4"
      },
      "source": [
        "# Mounting google drive\n",
        "from google.colab import drive\n",
        "drive.mount('/content/drive')"
      ],
      "execution_count": 3,
      "outputs": [
        {
          "output_type": "stream",
          "name": "stdout",
          "text": [
            "Mounted at /content/drive\n"
          ]
        }
      ]
    },
    {
      "cell_type": "code",
      "metadata": {
        "id": "PFT-tRyHN8QT"
      },
      "source": [
        "# import the files from google drive\n",
        "import gzip\n",
        "file1 = gzip.open('/content/drive/MyDrive/train-images-idx3-ubyte.gz','r')\n",
        "file2 = gzip.open('/content/drive/MyDrive/train-labels-idx1-ubyte.gz','r')\n",
        "file3 = gzip.open('/content/drive/MyDrive/t10k-images-idx3-ubyte.gz','r')\n",
        "file4 = gzip.open('/content/drive/MyDrive/t10k-labels-idx1-ubyte.gz','r')\n",
        "\n",
        "image_size = 28\n",
        "train_images = 60000\n",
        "test_images = 10000\n",
        "\n",
        "# Read image\n",
        "file1.read(16)\n",
        "buf = file1.read(image_size * image_size * train_images)\n",
        "data = np.frombuffer(buf, dtype=np.uint8).astype(np.float32)\n",
        "train_data1 = data.reshape(train_images, image_size, image_size)\n",
        "\n",
        "# read label\n",
        "file2.read(8)\n",
        "array1 = []\n",
        "for i in range(train_images):   \n",
        "    buf = file2.read(1)\n",
        "    array1.append(np.frombuffer(buf, dtype=np.uint8).astype(np.int64).tolist())\n",
        "\n",
        "file3.read(16)\n",
        "buf = file3.read(image_size * image_size * test_images)\n",
        "data = np.frombuffer(buf, dtype=np.uint8).astype(np.float32)\n",
        "test_data1 = data.reshape(test_images, image_size, image_size)\n",
        "\n",
        "file4.read(8)\n",
        "array2 =[]\n",
        "for i in range(0,test_images):   \n",
        "    buf = file4.read(1)\n",
        "    array2.append(np.frombuffer(buf, dtype=np.uint8).astype(np.int64).tolist())\n"
      ],
      "execution_count": 4,
      "outputs": []
    },
    {
      "cell_type": "code",
      "metadata": {
        "id": "nj_HGO8JLtPq",
        "colab": {
          "base_uri": "https://localhost:8080/"
        },
        "outputId": "680d87cd-e01d-42d0-dfb7-7bb0e408fbe9"
      },
      "source": [
        "# Data preprocessing\n",
        "def preProcess(num, X, y):\n",
        "  train_data = []\n",
        "  y_train = []\n",
        "  for i in range(num):\n",
        "    # keep if trouser or pullover\n",
        "    if (y[i][0] == 1) or (y[i][0] == 2):\n",
        "      train_data.append(X[i])\n",
        "\n",
        "      # append the values of target\n",
        "      y_train.append(y[i][0] - 1)\n",
        "  \n",
        "  return train_data, y_train\n",
        "\n",
        "# Preprocess the data\n",
        "X_train, y_train = preProcess(train_images, train_data1, array1)\n",
        "X_test, y_test = preProcess(test_images, test_data1, array2)\n",
        "\n",
        "print(\"The number of samples left in training data is: \" , len(X_train))"
      ],
      "execution_count": 9,
      "outputs": [
        {
          "output_type": "stream",
          "name": "stdout",
          "text": [
            "The number of samples left in training data is:  12000\n"
          ]
        }
      ]
    },
    {
      "cell_type": "code",
      "metadata": {
        "id": "nOqLovYaaT0p"
      },
      "source": [
        "# Binarize the data\n",
        "def binarize(data):\n",
        "  n = len(data)\n",
        "  new_data = np.zeros((n, 784))\n",
        "\n",
        "  for i in range(n):\n",
        "    new_data[i] = data[i].ravel()\n",
        "    new_data[i] = [int(round(i/255)) for i in new_data[i]]\n",
        "  return new_data\n",
        "\n",
        "X_train = binarize(X_train)\n",
        "X_test = binarize(X_test)\n"
      ],
      "execution_count": 11,
      "outputs": []
    },
    {
      "cell_type": "code",
      "metadata": {
        "id": "K0XImB5J8sxF"
      },
      "source": [
        "class naiveBayesClass:\n",
        "  def fit(self, X, y):\n",
        "    n_samples, n_features = X.shape\n",
        "    self._classes = np.unique(y)\n",
        "    n_classes = len(self._classes)\n",
        "\n",
        "    self._features = np.zeros((n_classes, n_features), dtype = np.float64)\n",
        "    self._classcs = np.zeros((n_classes, 1), dtype = np.int64)\n",
        "    self._priors = np.zeros(n_classes, dtype = np.float64)\n",
        "\n",
        "    # calculate the priors\n",
        "    for c in self._classes:\n",
        "      Xc = X[c == y]\n",
        "      self._features[c, :] = Xc.sum(axis = 0)\n",
        "      self._priors[c] = Xc.shape[0]/float(n_samples)\n",
        "      \n",
        "      if c == 0:\n",
        "        self._classcs[0] = Xc.shape[0]\n",
        "      \n",
        "      if c == 1:\n",
        "        self._classcs[1] = Xc.shape[0]\n",
        "      \n",
        "\n",
        "  def predict(self, X):\n",
        "    y_pred = [self._predx(x) for x in X]\n",
        "    return y_pred\n",
        "\n",
        "  def _predx(self, x):\n",
        "    posts = []\n",
        "    for id, c in enumerate(self._classes):\n",
        "\n",
        "      # calculate the prior probability\n",
        "      prior = np.log(self._priors[id])\n",
        "      classConditionals = np.sum(np.log(self._pdf(id, x)))\n",
        "\n",
        "      # calculate the posterior probability\n",
        "      posterior = prior + classConditionals\n",
        "      posts.append(posterior)\n",
        "    \n",
        "    # argmax to get the class\n",
        "    return self._classes[np.argmax(posts)]\n",
        "  \n",
        "  def _pdf(self, class_id, x):\n",
        "    \n",
        "    # get the classcs and features.\n",
        "    features_ = self._features[class_id]\n",
        "    classcs_ = self._classcs[class_id]\n",
        "    n = np.ndarray((784, 1))\n",
        "    d = np.ndarray((1,1))\n",
        "    \n",
        "    for i in range(784):\n",
        "\n",
        "      # assign value to n\n",
        "      if x[i] == 1:\n",
        "        n[i] = features_[i]\n",
        "\n",
        "      else:\n",
        "        n[i] = self._classcs[class_idx] - features_[i]\n",
        "    \n",
        "    d[0] = classcs_[0] + 2\n",
        "    \n",
        "    return (n/d)\n"
      ],
      "execution_count": 16,
      "outputs": []
    },
    {
      "cell_type": "code",
      "metadata": {
        "id": "Vms6L3TLRyw-"
      },
      "source": [
        "def crossValidation(data, values):\n",
        "\n",
        "  # make a list of indices.\n",
        "  indices = list(zip(data, values))\n",
        "\n",
        "  # shuffle the array\n",
        "  random.shuffle(indices)\n",
        "  data, values = list(zip(*indices))\n",
        "  values = list(values)\n",
        "  sizeData = len(data)\n",
        "\n",
        "  # divide in 3 equal parts\n",
        "  n1 = int(sizeData/3)\n",
        "  n2 = int(2*sizeData/3)\n",
        "\n",
        "  # assign to arrays.\n",
        "  data1, data2, data3 = data[:n1], data[n1:n2], data[n2:]\n",
        "  val1, val2, val3 = values[:n1], values[n1:n2], values[n2:]\n",
        "\n",
        "  xlen = 4000\n",
        "  ylen = 784\n",
        "\n",
        "  # make arrays\n",
        "  data1 = np.reshape(data1, (xlen, ylen))\n",
        "  data2 = np.reshape(data2, (xlen, ylen))\n",
        "  data3 = np.reshape(data3, (xlen, ylen))\n",
        "\n",
        "  return data1, data2, data3, val1, val2, val3\n",
        "\n",
        "\n",
        "# get three sets.\n",
        "train1, train2, train3, y1, y2, y3 = crossValidation(X_train, y_train)"
      ],
      "execution_count": 19,
      "outputs": []
    },
    {
      "cell_type": "code",
      "metadata": {
        "colab": {
          "base_uri": "https://localhost:8080/"
        },
        "id": "E9h8zK2lVi1q",
        "outputId": "9ec2bd5b-e92e-43e4-ae13-70f73a7b3b8b"
      },
      "source": [
        "model = naiveBayesClass()\n",
        "\n",
        "# First training data\n",
        "X_train1 = np.concatenate((train1, train2))\n",
        "y_train1 = np.concatenate((y1, y2))\n",
        "\n",
        "# First testing data\n",
        "X_test1 = train3\n",
        "y_test1 = y3\n",
        "\n",
        "# 1st model\n",
        "model.fit(X_train1, y_train1)\n",
        "y_pred1 = model.predict(X_test1)\n",
        "\n",
        "# 2nd training data\n",
        "X_train2 = np.concatenate((train3, train1))\n",
        "y_train2 = np.concatenate((y3, y1))\n",
        "\n",
        "# 2nd testing data\n",
        "X_test2 = train2\n",
        "y_test2 = y2\n",
        "\n",
        "# 2nd model\n",
        "model.fit(X_train2, y_train2)\n",
        "y_pred2 = model.predict(X_test2)\n",
        "\n",
        "# 3rd training data\n",
        "X_train3 = np.concatenate((train2, train3))\n",
        "y_train3 = np.concatenate((y2, y3))\n",
        "\n",
        "# 3rd testing set\n",
        "X_test3 = train1\n",
        "y_test3 = y1\n",
        "\n",
        "# 3rd model\n",
        "model.fit(X_train3,y_train3)\n",
        "y_pred3 = model.predict(X_test3)\n"
      ],
      "execution_count": 22,
      "outputs": [
        {
          "output_type": "stream",
          "name": "stderr",
          "text": [
            "/usr/local/lib/python3.7/dist-packages/ipykernel_launcher.py:38: RuntimeWarning: divide by zero encountered in log\n"
          ]
        }
      ]
    },
    {
      "cell_type": "code",
      "metadata": {
        "id": "mEL_AYp-envr"
      },
      "source": [
        "from sklearn.metrics import confusion_matrix\n"
      ],
      "execution_count": 23,
      "outputs": []
    },
    {
      "cell_type": "code",
      "metadata": {
        "colab": {
          "base_uri": "https://localhost:8080/"
        },
        "id": "ROHCxCfTKXdX",
        "outputId": "81410528-af15-495b-a05a-c87f1ee632a1"
      },
      "source": [
        "# Print confusion matrix for each validation set.\n",
        "print(\"The confusion matrix 1:\")\n",
        "print(confusion_matrix(y_test1, y_pred1))\n",
        "print()\n",
        "print(\"The confusion matrix 2:\")\n",
        "print(confusion_matrix(y_test2, y_pred2))\n",
        "print()\n",
        "print(\"The confusion matrix 3:\")\n",
        "print(confusion_matrix(y_test3, y_pred3))\n"
      ],
      "execution_count": 24,
      "outputs": [
        {
          "output_type": "stream",
          "name": "stdout",
          "text": [
            "The confusion matrix 1:\n",
            "[[1921   56]\n",
            " [ 227 1796]]\n",
            "\n",
            "The confusion matrix 2:\n",
            "[[1982   58]\n",
            " [ 199 1761]]\n",
            "\n",
            "The confusion matrix 3:\n",
            "[[1904   79]\n",
            " [ 213 1804]]\n"
          ]
        }
      ]
    },
    {
      "cell_type": "code",
      "metadata": {
        "id": "yNGXicthf2Uw"
      },
      "source": [
        "def plotRoc(fpr, tpr, label = None):\n",
        " plt.plot(fpr, tpr, linewidth = 2, label = label)"
      ],
      "execution_count": 25,
      "outputs": []
    },
    {
      "cell_type": "code",
      "metadata": {
        "id": "qRaJWJH_fqQG"
      },
      "source": [
        "from sklearn.metrics import roc_curve\n"
      ],
      "execution_count": 26,
      "outputs": []
    },
    {
      "cell_type": "code",
      "metadata": {
        "colab": {
          "base_uri": "https://localhost:8080/",
          "height": 812
        },
        "id": "FCcsQKqpKeV4",
        "outputId": "95c9a866-8ac5-41dd-b70b-f2554538de14"
      },
      "source": [
        "# Roc plot for 1st model\n",
        "print(\"The roc curve for 1st model\")\n",
        "fpr, tpr, thresholds = roc_curve(y_test1, y_pred1)\n",
        "plotRoc(fpr, tpr)\n",
        "plt.show()\n",
        "\n",
        "# Roc plot for 2nd model\n",
        "print(\"The roc curve for 2nd model\")\n",
        "fpr, tpr, thresholds = roc_curve(y_test2, y_pred2)\n",
        "plotRoc(fpr, tpr)\n",
        "plt.show()\n",
        "\n",
        "# Roc plot for 3rd model\n",
        "print(\"The roc curve for 3rd model\")\n",
        "fpr, tpr, thresholds = roc_curve(y_test3, y_pred3)\n",
        "plotRoc(fpr, tpr)\n",
        "plt.show()"
      ],
      "execution_count": 27,
      "outputs": [
        {
          "output_type": "stream",
          "name": "stdout",
          "text": [
            "The roc curve for 1st model\n"
          ]
        },
        {
          "output_type": "display_data",
          "data": {
            "image/png": "[encoded data removed]",
            "text/plain": [
              "<Figure size 432x288 with 1 Axes>"
            ]
          },
          "metadata": {
            "needs_background": "light"
          }
        },
        {
          "output_type": "stream",
          "name": "stdout",
          "text": [
            "The roc curve for 2nd model\n"
          ]
        },
        {
          "output_type": "display_data",
          "data": {
            "image/png": "[encoded data removed]",
            "text/plain": [
              "<Figure size 432x288 with 1 Axes>"
            ]
          },
          "metadata": {
            "needs_background": "light"
          }
        },
        {
          "output_type": "stream",
          "name": "stdout",
          "text": [
            "The roc curve for 3rd model\n"
          ]
        },
        {
          "output_type": "display_data",
          "data": {
            "image/png": "[encoded data removed]",
            "text/plain": [
              "<Figure size 432x288 with 1 Axes>"
            ]
          },
          "metadata": {
            "needs_background": "light"
          }
        }
      ]
    },
    {
      "cell_type": "code",
      "metadata": {
        "id": "sdHPWZ1rgY-c"
      },
      "source": [
        "# import the scores\n",
        "from sklearn.metrics import accuracy_score, precision_score, recall_score"
      ],
      "execution_count": 28,
      "outputs": []
    },
    {
      "cell_type": "code",
      "metadata": {
        "colab": {
          "base_uri": "https://localhost:8080/"
        },
        "id": "I-ItPXsmK8Qy",
        "outputId": "7dc224fc-5c8c-4abc-cd68-54e3749a89a4"
      },
      "source": [
        "# Print the three scores for three models\n",
        "print(\"First model\")\n",
        "print(\"Precision score: \", precision_score(y_test1, y_pred1))\n",
        "print(\"Accuracy scores\", accuracy_score(y_test2, y_pred2))\n",
        "print(\"Recall score: \", recall_score(y_test1, y_pred1))\n",
        "print()\n",
        "\n",
        "print(\"Second Model\")\n",
        "print(\"Precision score: \", precision_score(y_test2, y_pred2))\n",
        "print(\"Accuracy scores\", accuracy_score(y_test1, y_pred1))\n",
        "print(\"Recall score: \", recall_score(y_test2, y_pred2))\n",
        "print()\n",
        "\n",
        "\n",
        "print(\"Third Model\")\n",
        "print(\"Precision score: \", precision_score(y_test3, y_pred3))\n",
        "print(\"Accuracy scores\", accuracy_score(y_test3, y_pred3))\n",
        "print(\"Recall score: \", recall_score(y_test3, y_pred3))\n",
        "print()\n",
        "\n",
        "\n"
      ],
      "execution_count": 30,
      "outputs": [
        {
          "output_type": "stream",
          "name": "stdout",
          "text": [
            "First model\n",
            "Precision score:  0.9697624190064795\n",
            "Accuracy scores 0.93575\n",
            "Recall score:  0.8877904102817598\n",
            "\n",
            "Second Model\n",
            "Precision score:  0.9681143485431556\n",
            "Accuracy scores 0.92925\n",
            "Recall score:  0.898469387755102\n",
            "\n",
            "Third Model\n",
            "Precision score:  0.9580456718003186\n",
            "Accuracy scores 0.927\n",
            "Recall score:  0.8943976202280615\n",
            "\n"
          ]
        }
      ]
    }
  ]
}